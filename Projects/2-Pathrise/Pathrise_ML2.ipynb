{
  "nbformat": 4,
  "nbformat_minor": 0,
  "metadata": {
    "colab": {
      "provenance": []
    },
    "kernelspec": {
      "name": "python3",
      "display_name": "Python 3"
    },
    "language_info": {
      "name": "python"
    }
  },
  "cells": [
    {
      "cell_type": "code",
      "execution_count": 1,
      "metadata": {
        "id": "REVNVtaPLPYK"
      },
      "outputs": [],
      "source": [
        "from google.colab import files\n",
        "import pandas as pd\n",
        "import seaborn as sns\n",
        "import matplotlib.pyplot as plt\n",
        "from sklearn.model_selection import train_test_split\n",
        "from sklearn.linear_model import LinearRegression\n",
        "from sklearn.linear_model import LogisticRegression\n",
        "from sklearn.metrics import mean_absolute_error\n",
        "from sklearn.metrics import confusion_matrix\n",
        "from sklearn.metrics import accuracy_score\n",
        "from sklearn.metrics import classification_report\n",
        "from sklearn.neighbors import KNeighborsClassifier\n",
        "from sklearn.tree import DecisionTreeClassifier\n",
        "from sklearn.ensemble import RandomForestClassifier\n",
        "from sklearn.svm import SVC\n",
        "from sklearn.model_selection import train_test_split\n",
        "from sklearn.linear_model import LinearRegression\n",
        "from sklearn import metrics\n",
        "from sklearn.model_selection import GridSearchCV\n",
        "from sklearn.preprocessing import StandardScaler\n",
        "import pickle\n",
        "from imblearn.combine import SMOTEENN\n",
        "from sklearn.metrics import roc_auc_score"
      ]
    },
    {
      "cell_type": "code",
      "source": [
        "uploaded = files.upload()"
      ],
      "metadata": {
        "colab": {
          "base_uri": "https://localhost:8080/",
          "height": 74
        },
        "id": "9XgygSKLLSC3",
        "outputId": "6768fb0a-0695-441c-a7a6-b7efd49633bc"
      },
      "execution_count": 2,
      "outputs": [
        {
          "output_type": "display_data",
          "data": {
            "text/plain": [
              "<IPython.core.display.HTML object>"
            ],
            "text/html": [
              "\n",
              "     <input type=\"file\" id=\"files-ff6fc2d0-696e-4ad6-9000-6c7c49a84bdd\" name=\"files[]\" multiple disabled\n",
              "        style=\"border:none\" />\n",
              "     <output id=\"result-ff6fc2d0-696e-4ad6-9000-6c7c49a84bdd\">\n",
              "      Upload widget is only available when the cell has been executed in the\n",
              "      current browser session. Please rerun this cell to enable.\n",
              "      </output>\n",
              "      <script>// Copyright 2017 Google LLC\n",
              "//\n",
              "// Licensed under the Apache License, Version 2.0 (the \"License\");\n",
              "// you may not use this file except in compliance with the License.\n",
              "// You may obtain a copy of the License at\n",
              "//\n",
              "//      http://www.apache.org/licenses/LICENSE-2.0\n",
              "//\n",
              "// Unless required by applicable law or agreed to in writing, software\n",
              "// distributed under the License is distributed on an \"AS IS\" BASIS,\n",
              "// WITHOUT WARRANTIES OR CONDITIONS OF ANY KIND, either express or implied.\n",
              "// See the License for the specific language governing permissions and\n",
              "// limitations under the License.\n",
              "\n",
              "/**\n",
              " * @fileoverview Helpers for google.colab Python module.\n",
              " */\n",
              "(function(scope) {\n",
              "function span(text, styleAttributes = {}) {\n",
              "  const element = document.createElement('span');\n",
              "  element.textContent = text;\n",
              "  for (const key of Object.keys(styleAttributes)) {\n",
              "    element.style[key] = styleAttributes[key];\n",
              "  }\n",
              "  return element;\n",
              "}\n",
              "\n",
              "// Max number of bytes which will be uploaded at a time.\n",
              "const MAX_PAYLOAD_SIZE = 100 * 1024;\n",
              "\n",
              "function _uploadFiles(inputId, outputId) {\n",
              "  const steps = uploadFilesStep(inputId, outputId);\n",
              "  const outputElement = document.getElementById(outputId);\n",
              "  // Cache steps on the outputElement to make it available for the next call\n",
              "  // to uploadFilesContinue from Python.\n",
              "  outputElement.steps = steps;\n",
              "\n",
              "  return _uploadFilesContinue(outputId);\n",
              "}\n",
              "\n",
              "// This is roughly an async generator (not supported in the browser yet),\n",
              "// where there are multiple asynchronous steps and the Python side is going\n",
              "// to poll for completion of each step.\n",
              "// This uses a Promise to block the python side on completion of each step,\n",
              "// then passes the result of the previous step as the input to the next step.\n",
              "function _uploadFilesContinue(outputId) {\n",
              "  const outputElement = document.getElementById(outputId);\n",
              "  const steps = outputElement.steps;\n",
              "\n",
              "  const next = steps.next(outputElement.lastPromiseValue);\n",
              "  return Promise.resolve(next.value.promise).then((value) => {\n",
              "    // Cache the last promise value to make it available to the next\n",
              "    // step of the generator.\n",
              "    outputElement.lastPromiseValue = value;\n",
              "    return next.value.response;\n",
              "  });\n",
              "}\n",
              "\n",
              "/**\n",
              " * Generator function which is called between each async step of the upload\n",
              " * process.\n",
              " * @param {string} inputId Element ID of the input file picker element.\n",
              " * @param {string} outputId Element ID of the output display.\n",
              " * @return {!Iterable<!Object>} Iterable of next steps.\n",
              " */\n",
              "function* uploadFilesStep(inputId, outputId) {\n",
              "  const inputElement = document.getElementById(inputId);\n",
              "  inputElement.disabled = false;\n",
              "\n",
              "  const outputElement = document.getElementById(outputId);\n",
              "  outputElement.innerHTML = '';\n",
              "\n",
              "  const pickedPromise = new Promise((resolve) => {\n",
              "    inputElement.addEventListener('change', (e) => {\n",
              "      resolve(e.target.files);\n",
              "    });\n",
              "  });\n",
              "\n",
              "  const cancel = document.createElement('button');\n",
              "  inputElement.parentElement.appendChild(cancel);\n",
              "  cancel.textContent = 'Cancel upload';\n",
              "  const cancelPromise = new Promise((resolve) => {\n",
              "    cancel.onclick = () => {\n",
              "      resolve(null);\n",
              "    };\n",
              "  });\n",
              "\n",
              "  // Wait for the user to pick the files.\n",
              "  const files = yield {\n",
              "    promise: Promise.race([pickedPromise, cancelPromise]),\n",
              "    response: {\n",
              "      action: 'starting',\n",
              "    }\n",
              "  };\n",
              "\n",
              "  cancel.remove();\n",
              "\n",
              "  // Disable the input element since further picks are not allowed.\n",
              "  inputElement.disabled = true;\n",
              "\n",
              "  if (!files) {\n",
              "    return {\n",
              "      response: {\n",
              "        action: 'complete',\n",
              "      }\n",
              "    };\n",
              "  }\n",
              "\n",
              "  for (const file of files) {\n",
              "    const li = document.createElement('li');\n",
              "    li.append(span(file.name, {fontWeight: 'bold'}));\n",
              "    li.append(span(\n",
              "        `(${file.type || 'n/a'}) - ${file.size} bytes, ` +\n",
              "        `last modified: ${\n",
              "            file.lastModifiedDate ? file.lastModifiedDate.toLocaleDateString() :\n",
              "                                    'n/a'} - `));\n",
              "    const percent = span('0% done');\n",
              "    li.appendChild(percent);\n",
              "\n",
              "    outputElement.appendChild(li);\n",
              "\n",
              "    const fileDataPromise = new Promise((resolve) => {\n",
              "      const reader = new FileReader();\n",
              "      reader.onload = (e) => {\n",
              "        resolve(e.target.result);\n",
              "      };\n",
              "      reader.readAsArrayBuffer(file);\n",
              "    });\n",
              "    // Wait for the data to be ready.\n",
              "    let fileData = yield {\n",
              "      promise: fileDataPromise,\n",
              "      response: {\n",
              "        action: 'continue',\n",
              "      }\n",
              "    };\n",
              "\n",
              "    // Use a chunked sending to avoid message size limits. See b/62115660.\n",
              "    let position = 0;\n",
              "    do {\n",
              "      const length = Math.min(fileData.byteLength - position, MAX_PAYLOAD_SIZE);\n",
              "      const chunk = new Uint8Array(fileData, position, length);\n",
              "      position += length;\n",
              "\n",
              "      const base64 = btoa(String.fromCharCode.apply(null, chunk));\n",
              "      yield {\n",
              "        response: {\n",
              "          action: 'append',\n",
              "          file: file.name,\n",
              "          data: base64,\n",
              "        },\n",
              "      };\n",
              "\n",
              "      let percentDone = fileData.byteLength === 0 ?\n",
              "          100 :\n",
              "          Math.round((position / fileData.byteLength) * 100);\n",
              "      percent.textContent = `${percentDone}% done`;\n",
              "\n",
              "    } while (position < fileData.byteLength);\n",
              "  }\n",
              "\n",
              "  // All done.\n",
              "  yield {\n",
              "    response: {\n",
              "      action: 'complete',\n",
              "    }\n",
              "  };\n",
              "}\n",
              "\n",
              "scope.google = scope.google || {};\n",
              "scope.google.colab = scope.google.colab || {};\n",
              "scope.google.colab._files = {\n",
              "  _uploadFiles,\n",
              "  _uploadFilesContinue,\n",
              "};\n",
              "})(self);\n",
              "</script> "
            ]
          },
          "metadata": {}
        },
        {
          "output_type": "stream",
          "name": "stdout",
          "text": [
            "Saving Data_Pathrise.xlsx to Data_Pathrise.xlsx\n"
          ]
        }
      ]
    },
    {
      "cell_type": "code",
      "source": [
        "df = pd.read_excel('Data_Pathrise.xlsx')"
      ],
      "metadata": {
        "id": "CFSlcIo3LdgX"
      },
      "execution_count": 3,
      "outputs": []
    },
    {
      "cell_type": "code",
      "source": [
        "df.columns"
      ],
      "metadata": {
        "colab": {
          "base_uri": "https://localhost:8080/"
        },
        "id": "clIRgrtKMCjF",
        "outputId": "62d372b6-0782-4532-cad2-f2f065f7c7b7"
      },
      "execution_count": 4,
      "outputs": [
        {
          "output_type": "execute_result",
          "data": {
            "text/plain": [
              "Index(['id', 'pathrise_status', 'primary_track', 'cohort_tag',\n",
              "       'program_duration_days', 'placed', 'employment_status ',\n",
              "       'highest_level_of_education', 'length_of_job_search',\n",
              "       'biggest_challenge_in_search', 'professional_experience',\n",
              "       'work_authorization_status', 'number_of_interviews',\n",
              "       'number_of_applications', 'gender', 'race'],\n",
              "      dtype='object')"
            ]
          },
          "metadata": {},
          "execution_count": 4
        }
      ]
    },
    {
      "cell_type": "markdown",
      "source": [
        "## Removing the space after columns names ##"
      ],
      "metadata": {
        "id": "LYPRYZ3DoZTQ"
      }
    },
    {
      "cell_type": "code",
      "source": [
        "df.columns = df.columns.str.rstrip()"
      ],
      "metadata": {
        "id": "TGWlIl-FNn9c"
      },
      "execution_count": 5,
      "outputs": []
    },
    {
      "cell_type": "code",
      "source": [
        "df.info()"
      ],
      "metadata": {
        "colab": {
          "base_uri": "https://localhost:8080/"
        },
        "id": "RGaIeK2vOamx",
        "outputId": "eb393f91-c4ce-46f7-a061-0acce56a81cb"
      },
      "execution_count": 6,
      "outputs": [
        {
          "output_type": "stream",
          "name": "stdout",
          "text": [
            "<class 'pandas.core.frame.DataFrame'>\n",
            "RangeIndex: 2544 entries, 0 to 2543\n",
            "Data columns (total 16 columns):\n",
            " #   Column                       Non-Null Count  Dtype  \n",
            "---  ------                       --------------  -----  \n",
            " 0   id                           2544 non-null   int64  \n",
            " 1   pathrise_status              2544 non-null   object \n",
            " 2   primary_track                2544 non-null   object \n",
            " 3   cohort_tag                   2536 non-null   object \n",
            " 4   program_duration_days        1928 non-null   float64\n",
            " 5   placed                       2544 non-null   int64  \n",
            " 6   employment_status            2315 non-null   object \n",
            " 7   highest_level_of_education   2486 non-null   object \n",
            " 8   length_of_job_search         2470 non-null   object \n",
            " 9   biggest_challenge_in_search  2520 non-null   object \n",
            " 10  professional_experience      2322 non-null   object \n",
            " 11  work_authorization_status    2260 non-null   object \n",
            " 12  number_of_interviews         2326 non-null   float64\n",
            " 13  number_of_applications       2544 non-null   int64  \n",
            " 14  gender                       2052 non-null   object \n",
            " 15  race                         2526 non-null   object \n",
            "dtypes: float64(2), int64(3), object(11)\n",
            "memory usage: 318.1+ KB\n"
          ]
        }
      ]
    },
    {
      "cell_type": "code",
      "source": [
        "df['pathrise_status']"
      ],
      "metadata": {
        "colab": {
          "base_uri": "https://localhost:8080/"
        },
        "id": "cFNlxiqtOhMs",
        "outputId": "ba320b8a-8555-4819-8710-c37836982625"
      },
      "execution_count": null,
      "outputs": [
        {
          "output_type": "execute_result",
          "data": {
            "text/plain": [
              "0                   Active\n",
              "1                   Active\n",
              "2              Closed Lost\n",
              "3              Closed Lost\n",
              "4                   Placed\n",
              "               ...        \n",
              "2539    Withdrawn (Failed)\n",
              "2540    Withdrawn (Failed)\n",
              "2541                Active\n",
              "2542                Active\n",
              "2543             Withdrawn\n",
              "Name: pathrise_status, Length: 2544, dtype: object"
            ]
          },
          "metadata": {},
          "execution_count": 7
        }
      ]
    },
    {
      "cell_type": "code",
      "source": [
        "df = df[df['pathrise_status'].isin (['Placed','Withdrawn (Failed)'])]"
      ],
      "metadata": {
        "id": "KvcZ7pf6LlEG"
      },
      "execution_count": 7,
      "outputs": []
    },
    {
      "cell_type": "code",
      "source": [
        "df.drop(columns=['gender','race','cohort_tag','pathrise_status','id'],inplace=True)"
      ],
      "metadata": {
        "id": "B6l8NRE4O8iF"
      },
      "execution_count": 8,
      "outputs": []
    },
    {
      "cell_type": "code",
      "source": [
        "df.columns"
      ],
      "metadata": {
        "colab": {
          "base_uri": "https://localhost:8080/"
        },
        "id": "KQRsekqRPs_b",
        "outputId": "768d0d8b-f0de-4f80-d3f1-750304b65f47"
      },
      "execution_count": 11,
      "outputs": [
        {
          "output_type": "execute_result",
          "data": {
            "text/plain": [
              "Index(['track', 'days', 'placed', 'employment_status', 'education',\n",
              "       'job_search', 'challenge', 'experience', 'visa', 'interviews',\n",
              "       'applications'],\n",
              "      dtype='object')"
            ]
          },
          "metadata": {},
          "execution_count": 11
        }
      ]
    },
    {
      "cell_type": "markdown",
      "source": [
        "## Renaming columns title ##"
      ],
      "metadata": {
        "id": "zXjlRhmQorEb"
      }
    },
    {
      "cell_type": "code",
      "source": [
        "df = df.rename(columns={'primary_track':'track','program_duration_days':'days','highest_level_of_education':'education','length_of_job_search':'job_search','biggest_challenge_in_search':'challenge','professional_experience':'experience','work_authorization_status':'visa','number_of_interviews':'interviews','number_of_applications':'applications'})"
      ],
      "metadata": {
        "id": "2SGF_PT3QgtS"
      },
      "execution_count": 10,
      "outputs": []
    },
    {
      "cell_type": "code",
      "source": [
        "df = df[df['days'].between(left=14,right=365)]"
      ],
      "metadata": {
        "id": "0HyXuA2xPxqA"
      },
      "execution_count": 12,
      "outputs": []
    },
    {
      "cell_type": "code",
      "source": [
        "df.isnull().sum()"
      ],
      "metadata": {
        "colab": {
          "base_uri": "https://localhost:8080/"
        },
        "id": "Jq2jVeG1SN0p",
        "outputId": "8c0c4fe2-e2e9-4e76-d74f-eda8bf48ea40"
      },
      "execution_count": 13,
      "outputs": [
        {
          "output_type": "execute_result",
          "data": {
            "text/plain": [
              "track                  0\n",
              "days                   0\n",
              "placed                 0\n",
              "employment_status     98\n",
              "education             14\n",
              "job_search            36\n",
              "challenge             15\n",
              "experience            55\n",
              "visa                 128\n",
              "interviews            77\n",
              "applications           0\n",
              "dtype: int64"
            ]
          },
          "metadata": {},
          "execution_count": 13
        }
      ]
    },
    {
      "cell_type": "code",
      "source": [
        "df.info()"
      ],
      "metadata": {
        "colab": {
          "base_uri": "https://localhost:8080/"
        },
        "id": "GV3QmmflTBfB",
        "outputId": "dc3685c2-29e7-4b43-ae6f-5e9cfcf4a19e"
      },
      "execution_count": 14,
      "outputs": [
        {
          "output_type": "stream",
          "name": "stdout",
          "text": [
            "<class 'pandas.core.frame.DataFrame'>\n",
            "Int64Index: 943 entries, 4 to 2534\n",
            "Data columns (total 11 columns):\n",
            " #   Column             Non-Null Count  Dtype  \n",
            "---  ------             --------------  -----  \n",
            " 0   track              943 non-null    object \n",
            " 1   days               943 non-null    float64\n",
            " 2   placed             943 non-null    int64  \n",
            " 3   employment_status  845 non-null    object \n",
            " 4   education          929 non-null    object \n",
            " 5   job_search         907 non-null    object \n",
            " 6   challenge          928 non-null    object \n",
            " 7   experience         888 non-null    object \n",
            " 8   visa               815 non-null    object \n",
            " 9   interviews         866 non-null    float64\n",
            " 10  applications       943 non-null    int64  \n",
            "dtypes: float64(2), int64(2), object(7)\n",
            "memory usage: 88.4+ KB\n"
          ]
        }
      ]
    },
    {
      "cell_type": "markdown",
      "source": [
        "## Filling Missing Values ##"
      ],
      "metadata": {
        "id": "QApNBes7o6CB"
      }
    },
    {
      "cell_type": "code",
      "source": [
        "df['interviews'] = df['interviews'].fillna(df['interviews'].mean())\n",
        "df['visa'] = df['visa'].fillna(df['visa'].mode()[0])\n",
        "df['experience'] = df['experience'].fillna(df['experience'].mode()[0])\n",
        "df['challenge'] = df['challenge'].fillna(df['challenge'].mode()[0])\n",
        "df['job_search'] = df['job_search'].fillna(df['job_search'].mode()[0])\n",
        "df['education'] = df['education'].fillna(df['education'].mode()[0])\n",
        "df['employment_status'] = df['employment_status'].fillna(df['employment_status'].mode()[0])\n"
      ],
      "metadata": {
        "id": "9zhyJFRJTnIx"
      },
      "execution_count": 15,
      "outputs": []
    },
    {
      "cell_type": "code",
      "source": [
        "df['applications'] = df['applications'].astype(int)\n",
        "df['interviews'] = df['interviews'].astype(int)\n",
        "df['days'] = df['days'].astype(int)\n"
      ],
      "metadata": {
        "id": "npM1TSGHRqVX"
      },
      "execution_count": 16,
      "outputs": []
    },
    {
      "cell_type": "code",
      "source": [
        "sns.pairplot(df)"
      ],
      "metadata": {
        "colab": {
          "base_uri": "https://localhost:8080/",
          "height": 1000
        },
        "id": "D0-Xl4gMrWHD",
        "outputId": "8c5504c3-6232-4cd4-c8df-d9889e4262dc"
      },
      "execution_count": null,
      "outputs": [
        {
          "output_type": "execute_result",
          "data": {
            "text/plain": [
              "<seaborn.axisgrid.PairGrid at 0x7c99c2f29cf0>"
            ]
          },
          "metadata": {},
          "execution_count": 23
        },
        {
          "output_type": "display_data",
          "data": {
            "text/plain": [
              "<Figure size 1000x1000 with 20 Axes>"
            ],
            "image/png": "[encoded data removed]"
          },
          "metadata": {}
        }
      ]
    },
    {
      "cell_type": "code",
      "source": [
        "def cleaner(x):\n",
        " x = x.replace('High School Graduate','High School')\n",
        " x = x.replace('Some High School','High School')\n",
        " x = x.replace('GED or equivalent','High School')\n",
        " x = x.replace(\"Bachelor's Degree\",'Bachelor')\n",
        " x = x.replace(\"Master's Degree\",'Master')\n",
        " x = x.replace(\"Doctorate or Professional Degree\",\"PHD\")\n",
        " x = x.replace(\"Some College, No Degree\",'College')\n",
        " x = x.replace('Less than one month',\"0-1 month\")\n",
        " x = x.replace(\"6 months to a year\",\"6-12 months\")\n",
        " return(x)\n"
      ],
      "metadata": {
        "id": "VdGBcMuvWbUn"
      },
      "execution_count": 17,
      "outputs": []
    },
    {
      "cell_type": "code",
      "source": [
        "df['job_search'] = df['job_search'].apply(cleaner)\n",
        "df['education'] = df['education'].apply(cleaner)\n"
      ],
      "metadata": {
        "id": "IDaQuYbGcCbM"
      },
      "execution_count": 18,
      "outputs": []
    },
    {
      "cell_type": "code",
      "source": [
        "df.info()"
      ],
      "metadata": {
        "colab": {
          "base_uri": "https://localhost:8080/"
        },
        "id": "k--9GvgFchAE",
        "outputId": "15075d29-8591-4850-de43-6e76940d8a81"
      },
      "execution_count": 19,
      "outputs": [
        {
          "output_type": "stream",
          "name": "stdout",
          "text": [
            "<class 'pandas.core.frame.DataFrame'>\n",
            "Int64Index: 943 entries, 4 to 2534\n",
            "Data columns (total 11 columns):\n",
            " #   Column             Non-Null Count  Dtype \n",
            "---  ------             --------------  ----- \n",
            " 0   track              943 non-null    object\n",
            " 1   days               943 non-null    int64 \n",
            " 2   placed             943 non-null    int64 \n",
            " 3   employment_status  943 non-null    object\n",
            " 4   education          943 non-null    object\n",
            " 5   job_search         943 non-null    object\n",
            " 6   challenge          943 non-null    object\n",
            " 7   experience         943 non-null    object\n",
            " 8   visa               943 non-null    object\n",
            " 9   interviews         943 non-null    int64 \n",
            " 10  applications       943 non-null    int64 \n",
            "dtypes: int64(4), object(7)\n",
            "memory usage: 88.4+ KB\n"
          ]
        }
      ]
    },
    {
      "cell_type": "code",
      "source": [
        "sns.displot(data=df,x='days',bins=20,kde=True)\n",
        "plt.xticks(rotation=90)"
      ],
      "metadata": {
        "colab": {
          "base_uri": "https://localhost:8080/",
          "height": 715
        },
        "id": "fJsh8IUR4N9i",
        "outputId": "d48d3b9d-8215-4667-c34f-606a35752263"
      },
      "execution_count": null,
      "outputs": [
        {
          "output_type": "execute_result",
          "data": {
            "text/plain": [
              "(array([-50.,   0.,  50., 100., 150., 200., 250., 300., 350., 400.]),\n",
              " [Text(-50.0, 0, '−50'),\n",
              "  Text(0.0, 0, '0'),\n",
              "  Text(50.0, 0, '50'),\n",
              "  Text(100.0, 0, '100'),\n",
              "  Text(150.0, 0, '150'),\n",
              "  Text(200.0, 0, '200'),\n",
              "  Text(250.0, 0, '250'),\n",
              "  Text(300.0, 0, '300'),\n",
              "  Text(350.0, 0, '350'),\n",
              "  Text(400.0, 0, '400')])"
            ]
          },
          "metadata": {},
          "execution_count": 26
        },
        {
          "output_type": "display_data",
          "data": {
            "text/plain": [
              "<Figure size 500x500 with 1 Axes>"
            ],
            "image/png": "[encoded data removed]"
          },
          "metadata": {}
        }
      ]
    },
    {
      "cell_type": "code",
      "source": [
        "sns.displot(data=df,x='days', y='interviews')\n",
        "plt.xticks(rotation=90)"
      ],
      "metadata": {
        "colab": {
          "base_uri": "https://localhost:8080/",
          "height": 715
        },
        "id": "LmuSizpo4c_e",
        "outputId": "32f42288-99c2-4991-a4ff-1b37deea910a"
      },
      "execution_count": null,
      "outputs": [
        {
          "output_type": "execute_result",
          "data": {
            "text/plain": [
              "(array([-50.,   0.,  50., 100., 150., 200., 250., 300., 350., 400.]),\n",
              " [Text(-50.0, 0, '−50'),\n",
              "  Text(0.0, 0, '0'),\n",
              "  Text(50.0, 0, '50'),\n",
              "  Text(100.0, 0, '100'),\n",
              "  Text(150.0, 0, '150'),\n",
              "  Text(200.0, 0, '200'),\n",
              "  Text(250.0, 0, '250'),\n",
              "  Text(300.0, 0, '300'),\n",
              "  Text(350.0, 0, '350'),\n",
              "  Text(400.0, 0, '400')])"
            ]
          },
          "metadata": {},
          "execution_count": 27
        },
        {
          "output_type": "display_data",
          "data": {
            "text/plain": [
              "<Figure size 500x500 with 1 Axes>"
            ],
            "image/png": "[encoded data removed]"
          },
          "metadata": {}
        }
      ]
    },
    {
      "cell_type": "code",
      "source": [
        "sns.countplot(data=df,x='employment_status')\n",
        "plt.xticks(rotation=90)"
      ],
      "metadata": {
        "colab": {
          "base_uri": "https://localhost:8080/",
          "height": 681
        },
        "id": "xO1FiXKF4u3c",
        "outputId": "5fb48324-aa4e-4baf-d621-5bd04079f157"
      },
      "execution_count": null,
      "outputs": [
        {
          "output_type": "execute_result",
          "data": {
            "text/plain": [
              "([0, 1, 2, 3, 4],\n",
              " [Text(0, 0, 'Unemployed'),\n",
              "  Text(1, 0, 'Employed Part-Time'),\n",
              "  Text(2, 0, 'Student'),\n",
              "  Text(3, 0, 'Employed Full-Time'),\n",
              "  Text(4, 0, 'Contractor')])"
            ]
          },
          "metadata": {},
          "execution_count": 28
        },
        {
          "output_type": "display_data",
          "data": {
            "text/plain": [
              "<Figure size 640x480 with 1 Axes>"
            ],
            "image/png": "[encoded data removed]"
          },
          "metadata": {}
        }
      ]
    },
    {
      "cell_type": "code",
      "source": [
        "sns.scatterplot(data=df,x='days',y='education',hue='placed')\n",
        "plt.xticks(rotation=90)\n",
        "plt.xlabel('duration_days')\n",
        "plt.ylabel('qualification')\n",
        "plt.title('Test')"
      ],
      "metadata": {
        "colab": {
          "base_uri": "https://localhost:8080/",
          "height": 502
        },
        "id": "yAFcRJzo7A0F",
        "outputId": "057a57b0-fff6-4eba-ae6a-4d112e732c88"
      },
      "execution_count": null,
      "outputs": [
        {
          "output_type": "execute_result",
          "data": {
            "text/plain": [
              "Text(0.5, 1.0, 'Test')"
            ]
          },
          "metadata": {},
          "execution_count": 29
        },
        {
          "output_type": "display_data",
          "data": {
            "text/plain": [
              "<Figure size 640x480 with 1 Axes>"
            ],
            "image/png": "[encoded data removed]"
          },
          "metadata": {}
        }
      ]
    },
    {
      "cell_type": "code",
      "source": [
        "sns.boxplot(data=df,x='days',y='education',hue='placed')"
      ],
      "metadata": {
        "colab": {
          "base_uri": "https://localhost:8080/",
          "height": 467
        },
        "id": "rawJqsoFHduK",
        "outputId": "6eeb78da-137c-4346-bebf-9675a44fe8ed"
      },
      "execution_count": null,
      "outputs": [
        {
          "output_type": "execute_result",
          "data": {
            "text/plain": [
              "<Axes: xlabel='days', ylabel='education'>"
            ]
          },
          "metadata": {},
          "execution_count": 30
        },
        {
          "output_type": "display_data",
          "data": {
            "text/plain": [
              "<Figure size 640x480 with 1 Axes>"
            ],
            "image/png": "[encoded data removed]"
          },
          "metadata": {}
        }
      ]
    },
    {
      "cell_type": "code",
      "source": [
        "sns.catplot(data=df,x='days',y='education',hue='placed')"
      ],
      "metadata": {
        "colab": {
          "base_uri": "https://localhost:8080/",
          "height": 524
        },
        "id": "893ctdYdKpYN",
        "outputId": "f8b61f82-f467-498d-a92a-f5f1f0901c2b"
      },
      "execution_count": null,
      "outputs": [
        {
          "output_type": "execute_result",
          "data": {
            "text/plain": [
              "<seaborn.axisgrid.FacetGrid at 0x7c99b3af3bb0>"
            ]
          },
          "metadata": {},
          "execution_count": 31
        },
        {
          "output_type": "display_data",
          "data": {
            "text/plain": [
              "<Figure size 558.875x500 with 1 Axes>"
            ],
            "image/png": "[encoded data removed]"
          },
          "metadata": {}
        }
      ]
    },
    {
      "cell_type": "code",
      "source": [
        "df.info()"
      ],
      "metadata": {
        "colab": {
          "base_uri": "https://localhost:8080/"
        },
        "id": "8uNkxEzqgVIs",
        "outputId": "6f655fb9-dade-40ac-d931-d749068b2d90"
      },
      "execution_count": null,
      "outputs": [
        {
          "output_type": "stream",
          "name": "stdout",
          "text": [
            "<class 'pandas.core.frame.DataFrame'>\n",
            "Int64Index: 943 entries, 4 to 2534\n",
            "Data columns (total 11 columns):\n",
            " #   Column             Non-Null Count  Dtype \n",
            "---  ------             --------------  ----- \n",
            " 0   track              943 non-null    object\n",
            " 1   days               943 non-null    int64 \n",
            " 2   placed             943 non-null    int64 \n",
            " 3   employment_status  943 non-null    object\n",
            " 4   education          943 non-null    object\n",
            " 5   job_search         943 non-null    object\n",
            " 6   challenge          943 non-null    object\n",
            " 7   experience         943 non-null    object\n",
            " 8   visa               943 non-null    object\n",
            " 9   interviews         943 non-null    int64 \n",
            " 10  applications       943 non-null    int64 \n",
            "dtypes: int64(4), object(7)\n",
            "memory usage: 88.4+ KB\n"
          ]
        }
      ]
    },
    {
      "cell_type": "code",
      "source": [
        "x = df.drop(columns=['track','days','placed','job_search','challenge','employment_status'])"
      ],
      "metadata": {
        "id": "J5jR2sPEnFJu"
      },
      "execution_count": 20,
      "outputs": []
    },
    {
      "cell_type": "code",
      "source": [
        "y_d = df['days']"
      ],
      "metadata": {
        "id": "SEFc-TSMnkoF"
      },
      "execution_count": 21,
      "outputs": []
    },
    {
      "cell_type": "code",
      "source": [
        "y_p = df['placed']"
      ],
      "metadata": {
        "id": "Bai8LxdQJBcC"
      },
      "execution_count": 22,
      "outputs": []
    },
    {
      "cell_type": "code",
      "source": [
        "x = pd.get_dummies(x,columns=['visa','experience','education'])"
      ],
      "metadata": {
        "id": "FOsnJ5SAnnz8"
      },
      "execution_count": 23,
      "outputs": []
    },
    {
      "cell_type": "code",
      "source": [
        "cols = x.columns"
      ],
      "metadata": {
        "id": "NkfE8BqyoEk1"
      },
      "execution_count": 24,
      "outputs": []
    },
    {
      "cell_type": "code",
      "source": [
        "cols"
      ],
      "metadata": {
        "colab": {
          "base_uri": "https://localhost:8080/"
        },
        "id": "-bqiLiZr8uxK",
        "outputId": "b671cd36-6f94-416a-b428-dfc3532a899b"
      },
      "execution_count": 25,
      "outputs": [
        {
          "output_type": "execute_result",
          "data": {
            "text/plain": [
              "Index(['interviews', 'applications', 'visa_Canada Citizen', 'visa_Citizen',\n",
              "       'visa_F1 Visa/CPT', 'visa_F1 Visa/OPT', 'visa_Green Card', 'visa_H1B',\n",
              "       'visa_Other', 'visa_STEM OPT', 'experience_1-2 years',\n",
              "       'experience_3-4 years', 'experience_5+ years',\n",
              "       'experience_Less than one year', 'education_Bachelor',\n",
              "       'education_College', 'education_High School', 'education_Master',\n",
              "       'education_PHD'],\n",
              "      dtype='object')"
            ]
          },
          "metadata": {},
          "execution_count": 25
        }
      ]
    },
    {
      "cell_type": "markdown",
      "source": [
        "## In order to use Regression we need to standardize the data ##"
      ],
      "metadata": {
        "id": "wIIvEp9i-vaS"
      }
    },
    {
      "cell_type": "code",
      "source": [
        "scaler = StandardScaler()"
      ],
      "metadata": {
        "id": "TIdMffPN8ue6"
      },
      "execution_count": 26,
      "outputs": []
    },
    {
      "cell_type": "code",
      "source": [
        "\n",
        "x_scaled = scaler.fit_transform(x)"
      ],
      "metadata": {
        "id": "tK6Nr1Ng4Z9j"
      },
      "execution_count": 27,
      "outputs": []
    },
    {
      "cell_type": "code",
      "source": [
        "x = pd.DataFrame(x_scaled,columns=cols)"
      ],
      "metadata": {
        "id": "CpLlx9L25cdy"
      },
      "execution_count": 28,
      "outputs": []
    },
    {
      "cell_type": "code",
      "source": [
        "x"
      ],
      "metadata": {
        "colab": {
          "base_uri": "https://localhost:8080/",
          "height": 461
        },
        "id": "ca0JUxE4oW_C",
        "outputId": "56838846-7700-473c-c342-6d0408992013"
      },
      "execution_count": 29,
      "outputs": [
        {
          "output_type": "execute_result",
          "data": {
            "text/plain": [
              "     interviews  applications  visa_Canada Citizen  visa_Citizen  \\\n",
              "0      2.826252      1.549914            -0.098163     -1.147586   \n",
              "1      0.663562     -0.476764            -0.098163      0.871394   \n",
              "2      1.024010     -0.739040            -0.098163      0.871394   \n",
              "3     -0.778232     -0.810570            -0.098163     -1.147586   \n",
              "4     -0.057335     -0.476764            -0.098163     -1.147586   \n",
              "..          ...           ...                  ...           ...   \n",
              "938    1.384458     -0.691354            -0.098163      0.871394   \n",
              "939   -0.057335      0.238534            -0.098163     -1.147586   \n",
              "940   -0.778232     -0.691354            -0.098163     -1.147586   \n",
              "941   -0.778232     -0.619824            -0.098163     -1.147586   \n",
              "942   -0.778232     -0.595981            -0.098163      0.871394   \n",
              "\n",
              "     visa_F1 Visa/CPT  visa_F1 Visa/OPT  visa_Green Card  visa_H1B  \\\n",
              "0           -0.223856          1.760682        -0.272088 -0.113531   \n",
              "1           -0.223856         -0.567962        -0.272088 -0.113531   \n",
              "2           -0.223856         -0.567962        -0.272088 -0.113531   \n",
              "3            4.467164         -0.567962        -0.272088 -0.113531   \n",
              "4           -0.223856          1.760682        -0.272088 -0.113531   \n",
              "..                ...               ...              ...       ...   \n",
              "938         -0.223856         -0.567962        -0.272088 -0.113531   \n",
              "939         -0.223856         -0.567962        -0.272088 -0.113531   \n",
              "940         -0.223856          1.760682        -0.272088 -0.113531   \n",
              "941         -0.223856          1.760682        -0.272088 -0.113531   \n",
              "942         -0.223856         -0.567962        -0.272088 -0.113531   \n",
              "\n",
              "     visa_Other  visa_STEM OPT  experience_1-2 years  experience_3-4 years  \\\n",
              "0     -0.221231      -0.046102              1.219888             -0.554892   \n",
              "1     -0.221231      -0.046102              1.219888             -0.554892   \n",
              "2     -0.221231      -0.046102              1.219888             -0.554892   \n",
              "3     -0.221231      -0.046102              1.219888             -0.554892   \n",
              "4     -0.221231      -0.046102             -0.819747             -0.554892   \n",
              "..          ...            ...                   ...                   ...   \n",
              "938   -0.221231      -0.046102             -0.819747             -0.554892   \n",
              "939    4.520157      -0.046102             -0.819747             -0.554892   \n",
              "940   -0.221231      -0.046102              1.219888             -0.554892   \n",
              "941   -0.221231      -0.046102             -0.819747              1.802151   \n",
              "942   -0.221231      -0.046102              1.219888             -0.554892   \n",
              "\n",
              "     experience_5+ years  experience_Less than one year  education_Bachelor  \\\n",
              "0              -0.352075                      -0.581024            0.882749   \n",
              "1              -0.352075                      -0.581024            0.882749   \n",
              "2              -0.352075                      -0.581024           -1.132825   \n",
              "3              -0.352075                      -0.581024           -1.132825   \n",
              "4               2.840301                      -0.581024           -1.132825   \n",
              "..                   ...                            ...                 ...   \n",
              "938            -0.352075                       1.721100            0.882749   \n",
              "939             2.840301                      -0.581024           -1.132825   \n",
              "940            -0.352075                      -0.581024           -1.132825   \n",
              "941            -0.352075                      -0.581024            0.882749   \n",
              "942            -0.352075                      -0.581024            0.882749   \n",
              "\n",
              "     education_College  education_High School  education_Master  education_PHD  \n",
              "0            -0.234115              -0.143397         -0.658127      -0.260673  \n",
              "1            -0.234115              -0.143397         -0.658127      -0.260673  \n",
              "2            -0.234115              -0.143397          1.519464      -0.260673  \n",
              "3            -0.234115              -0.143397          1.519464      -0.260673  \n",
              "4            -0.234115              -0.143397          1.519464      -0.260673  \n",
              "..                 ...                    ...               ...            ...  \n",
              "938          -0.234115              -0.143397         -0.658127      -0.260673  \n",
              "939          -0.234115              -0.143397         -0.658127       3.836231  \n",
              "940          -0.234115              -0.143397         -0.658127       3.836231  \n",
              "941          -0.234115              -0.143397         -0.658127      -0.260673  \n",
              "942          -0.234115              -0.143397         -0.658127      -0.260673  \n",
              "\n",
              "[943 rows x 19 columns]"
            ],
            "text/html": [
              "\n",
              "  <div id=\"df-c5160587-15cd-4a32-adca-922408020efb\" class=\"colab-df-container\">\n",
              "    <div>\n",
              "<style scoped>\n",
              "    .dataframe tbody tr th:only-of-type {\n",
              "        vertical-align: middle;\n",
              "    }\n",
              "\n",
              "    .dataframe tbody tr th {\n",
              "        vertical-align: top;\n",
              "    }\n",
              "\n",
              "    .dataframe thead th {\n",
              "        text-align: right;\n",
              "    }\n",
              "</style>\n",
              "<table border=\"1\" class=\"dataframe\">\n",
              "  <thead>\n",
              "    <tr style=\"text-align: right;\">\n",
              "      <th></th>\n",
              "      <th>interviews</th>\n",
              "      <th>applications</th>\n",
              "      <th>visa_Canada Citizen</th>\n",
              "      <th>visa_Citizen</th>\n",
              "      <th>visa_F1 Visa/CPT</th>\n",
              "      <th>visa_F1 Visa/OPT</th>\n",
              "      <th>visa_Green Card</th>\n",
              "      <th>visa_H1B</th>\n",
              "      <th>visa_Other</th>\n",
              "      <th>visa_STEM OPT</th>\n",
              "      <th>experience_1-2 years</th>\n",
              "      <th>experience_3-4 years</th>\n",
              "      <th>experience_5+ years</th>\n",
              "      <th>experience_Less than one year</th>\n",
              "      <th>education_Bachelor</th>\n",
              "      <th>education_College</th>\n",
              "      <th>education_High School</th>\n",
              "      <th>education_Master</th>\n",
              "      <th>education_PHD</th>\n",
              "    </tr>\n",
              "  </thead>\n",
              "  <tbody>\n",
              "    <tr>\n",
              "      <th>0</th>\n",
              "      <td>2.826252</td>\n",
              "      <td>1.549914</td>\n",
              "      <td>-0.098163</td>\n",
              "      <td>-1.147586</td>\n",
              "      <td>-0.223856</td>\n",
              "      <td>1.760682</td>\n",
              "      <td>-0.272088</td>\n",
              "      <td>-0.113531</td>\n",
              "      <td>-0.221231</td>\n",
              "      <td>-0.046102</td>\n",
              "      <td>1.219888</td>\n",
              "      <td>-0.554892</td>\n",
              "      <td>-0.352075</td>\n",
              "      <td>-0.581024</td>\n",
              "      <td>0.882749</td>\n",
              "      <td>-0.234115</td>\n",
              "      <td>-0.143397</td>\n",
              "      <td>-0.658127</td>\n",
              "      <td>-0.260673</td>\n",
              "    </tr>\n",
              "    <tr>\n",
              "      <th>1</th>\n",
              "      <td>0.663562</td>\n",
              "      <td>-0.476764</td>\n",
              "      <td>-0.098163</td>\n",
              "      <td>0.871394</td>\n",
              "      <td>-0.223856</td>\n",
              "      <td>-0.567962</td>\n",
              "      <td>-0.272088</td>\n",
              "      <td>-0.113531</td>\n",
              "      <td>-0.221231</td>\n",
              "      <td>-0.046102</td>\n",
              "      <td>1.219888</td>\n",
              "      <td>-0.554892</td>\n",
              "      <td>-0.352075</td>\n",
              "      <td>-0.581024</td>\n",
              "      <td>0.882749</td>\n",
              "      <td>-0.234115</td>\n",
              "      <td>-0.143397</td>\n",
              "      <td>-0.658127</td>\n",
              "      <td>-0.260673</td>\n",
              "    </tr>\n",
              "    <tr>\n",
              "      <th>2</th>\n",
              "      <td>1.024010</td>\n",
              "      <td>-0.739040</td>\n",
              "      <td>-0.098163</td>\n",
              "      <td>0.871394</td>\n",
              "      <td>-0.223856</td>\n",
              "      <td>-0.567962</td>\n",
              "      <td>-0.272088</td>\n",
              "      <td>-0.113531</td>\n",
              "      <td>-0.221231</td>\n",
              "      <td>-0.046102</td>\n",
              "      <td>1.219888</td>\n",
              "      <td>-0.554892</td>\n",
              "      <td>-0.352075</td>\n",
              "      <td>-0.581024</td>\n",
              "      <td>-1.132825</td>\n",
              "      <td>-0.234115</td>\n",
              "      <td>-0.143397</td>\n",
              "      <td>1.519464</td>\n",
              "      <td>-0.260673</td>\n",
              "    </tr>\n",
              "    <tr>\n",
              "      <th>3</th>\n",
              "      <td>-0.778232</td>\n",
              "      <td>-0.810570</td>\n",
              "      <td>-0.098163</td>\n",
              "      <td>-1.147586</td>\n",
              "      <td>4.467164</td>\n",
              "      <td>-0.567962</td>\n",
              "      <td>-0.272088</td>\n",
              "      <td>-0.113531</td>\n",
              "      <td>-0.221231</td>\n",
              "      <td>-0.046102</td>\n",
              "      <td>1.219888</td>\n",
              "      <td>-0.554892</td>\n",
              "      <td>-0.352075</td>\n",
              "      <td>-0.581024</td>\n",
              "      <td>-1.132825</td>\n",
              "      <td>-0.234115</td>\n",
              "      <td>-0.143397</td>\n",
              "      <td>1.519464</td>\n",
              "      <td>-0.260673</td>\n",
              "    </tr>\n",
              "    <tr>\n",
              "      <th>4</th>\n",
              "      <td>-0.057335</td>\n",
              "      <td>-0.476764</td>\n",
              "      <td>-0.098163</td>\n",
              "      <td>-1.147586</td>\n",
              "      <td>-0.223856</td>\n",
              "      <td>1.760682</td>\n",
              "      <td>-0.272088</td>\n",
              "      <td>-0.113531</td>\n",
              "      <td>-0.221231</td>\n",
              "      <td>-0.046102</td>\n",
              "      <td>-0.819747</td>\n",
              "      <td>-0.554892</td>\n",
              "      <td>2.840301</td>\n",
              "      <td>-0.581024</td>\n",
              "      <td>-1.132825</td>\n",
              "      <td>-0.234115</td>\n",
              "      <td>-0.143397</td>\n",
              "      <td>1.519464</td>\n",
              "      <td>-0.260673</td>\n",
              "    </tr>\n",
              "    <tr>\n",
              "      <th>...</th>\n",
              "      <td>...</td>\n",
              "      <td>...</td>\n",
              "      <td>...</td>\n",
              "      <td>...</td>\n",
              "      <td>...</td>\n",
              "      <td>...</td>\n",
              "      <td>...</td>\n",
              "      <td>...</td>\n",
              "      <td>...</td>\n",
              "      <td>...</td>\n",
              "      <td>...</td>\n",
              "      <td>...</td>\n",
              "      <td>...</td>\n",
              "      <td>...</td>\n",
              "      <td>...</td>\n",
              "      <td>...</td>\n",
              "      <td>...</td>\n",
              "      <td>...</td>\n",
              "      <td>...</td>\n",
              "    </tr>\n",
              "    <tr>\n",
              "      <th>938</th>\n",
              "      <td>1.384458</td>\n",
              "      <td>-0.691354</td>\n",
              "      <td>-0.098163</td>\n",
              "      <td>0.871394</td>\n",
              "      <td>-0.223856</td>\n",
              "      <td>-0.567962</td>\n",
              "      <td>-0.272088</td>\n",
              "      <td>-0.113531</td>\n",
              "      <td>-0.221231</td>\n",
              "      <td>-0.046102</td>\n",
              "      <td>-0.819747</td>\n",
              "      <td>-0.554892</td>\n",
              "      <td>-0.352075</td>\n",
              "      <td>1.721100</td>\n",
              "      <td>0.882749</td>\n",
              "      <td>-0.234115</td>\n",
              "      <td>-0.143397</td>\n",
              "      <td>-0.658127</td>\n",
              "      <td>-0.260673</td>\n",
              "    </tr>\n",
              "    <tr>\n",
              "      <th>939</th>\n",
              "      <td>-0.057335</td>\n",
              "      <td>0.238534</td>\n",
              "      <td>-0.098163</td>\n",
              "      <td>-1.147586</td>\n",
              "      <td>-0.223856</td>\n",
              "      <td>-0.567962</td>\n",
              "      <td>-0.272088</td>\n",
              "      <td>-0.113531</td>\n",
              "      <td>4.520157</td>\n",
              "      <td>-0.046102</td>\n",
              "      <td>-0.819747</td>\n",
              "      <td>-0.554892</td>\n",
              "      <td>2.840301</td>\n",
              "      <td>-0.581024</td>\n",
              "      <td>-1.132825</td>\n",
              "      <td>-0.234115</td>\n",
              "      <td>-0.143397</td>\n",
              "      <td>-0.658127</td>\n",
              "      <td>3.836231</td>\n",
              "    </tr>\n",
              "    <tr>\n",
              "      <th>940</th>\n",
              "      <td>-0.778232</td>\n",
              "      <td>-0.691354</td>\n",
              "      <td>-0.098163</td>\n",
              "      <td>-1.147586</td>\n",
              "      <td>-0.223856</td>\n",
              "      <td>1.760682</td>\n",
              "      <td>-0.272088</td>\n",
              "      <td>-0.113531</td>\n",
              "      <td>-0.221231</td>\n",
              "      <td>-0.046102</td>\n",
              "      <td>1.219888</td>\n",
              "      <td>-0.554892</td>\n",
              "      <td>-0.352075</td>\n",
              "      <td>-0.581024</td>\n",
              "      <td>-1.132825</td>\n",
              "      <td>-0.234115</td>\n",
              "      <td>-0.143397</td>\n",
              "      <td>-0.658127</td>\n",
              "      <td>3.836231</td>\n",
              "    </tr>\n",
              "    <tr>\n",
              "      <th>941</th>\n",
              "      <td>-0.778232</td>\n",
              "      <td>-0.619824</td>\n",
              "      <td>-0.098163</td>\n",
              "      <td>-1.147586</td>\n",
              "      <td>-0.223856</td>\n",
              "      <td>1.760682</td>\n",
              "      <td>-0.272088</td>\n",
              "      <td>-0.113531</td>\n",
              "      <td>-0.221231</td>\n",
              "      <td>-0.046102</td>\n",
              "      <td>-0.819747</td>\n",
              "      <td>1.802151</td>\n",
              "      <td>-0.352075</td>\n",
              "      <td>-0.581024</td>\n",
              "      <td>0.882749</td>\n",
              "      <td>-0.234115</td>\n",
              "      <td>-0.143397</td>\n",
              "      <td>-0.658127</td>\n",
              "      <td>-0.260673</td>\n",
              "    </tr>\n",
              "    <tr>\n",
              "      <th>942</th>\n",
              "      <td>-0.778232</td>\n",
              "      <td>-0.595981</td>\n",
              "      <td>-0.098163</td>\n",
              "      <td>0.871394</td>\n",
              "      <td>-0.223856</td>\n",
              "      <td>-0.567962</td>\n",
              "      <td>-0.272088</td>\n",
              "      <td>-0.113531</td>\n",
              "      <td>-0.221231</td>\n",
              "      <td>-0.046102</td>\n",
              "      <td>1.219888</td>\n",
              "      <td>-0.554892</td>\n",
              "      <td>-0.352075</td>\n",
              "      <td>-0.581024</td>\n",
              "      <td>0.882749</td>\n",
              "      <td>-0.234115</td>\n",
              "      <td>-0.143397</td>\n",
              "      <td>-0.658127</td>\n",
              "      <td>-0.260673</td>\n",
              "    </tr>\n",
              "  </tbody>\n",
              "</table>\n",
              "<p>943 rows × 19 columns</p>\n",
              "</div>\n",
              "    <div class=\"colab-df-buttons\">\n",
              "\n",
              "  <div class=\"colab-df-container\">\n",
              "    <button class=\"colab-df-convert\" onclick=\"convertToInteractive('df-c5160587-15cd-4a32-adca-922408020efb')\"\n",
              "            title=\"Convert this dataframe to an interactive table.\"\n",
              "            style=\"display:none;\">\n",
              "\n",
              "  <svg xmlns=\"http://www.w3.org/2000/svg\" height=\"24px\" viewBox=\"0 -960 960 960\">\n",
              "    <path d=\"M120-120v-720h720v720H120Zm60-500h600v-160H180v160Zm220 220h160v-160H400v160Zm0 220h160v-160H400v160ZM180-400h160v-160H180v160Zm440 0h160v-160H620v160ZM180-180h160v-160H180v160Zm440 0h160v-160H620v160Z\"/>\n",
              "  </svg>\n",
              "    </button>\n",
              "\n",
              "  <style>\n",
              "    .colab-df-container {\n",
              "      display:flex;\n",
              "      gap: 12px;\n",
              "    }\n",
              "\n",
              "    .colab-df-convert {\n",
              "      background-color: #E8F0FE;\n",
              "      border: none;\n",
              "      border-radius: 50%;\n",
              "      cursor: pointer;\n",
              "      display: none;\n",
              "      fill: #1967D2;\n",
              "      height: 32px;\n",
              "      padding: 0 0 0 0;\n",
              "      width: 32px;\n",
              "    }\n",
              "\n",
              "    .colab-df-convert:hover {\n",
              "      background-color: #E2EBFA;\n",
              "      box-shadow: 0px 1px 2px rgba(60, 64, 67, 0.3), 0px 1px 3px 1px rgba(60, 64, 67, 0.15);\n",
              "      fill: #174EA6;\n",
              "    }\n",
              "\n",
              "    .colab-df-buttons div {\n",
              "      margin-bottom: 4px;\n",
              "    }\n",
              "\n",
              "    [theme=dark] .colab-df-convert {\n",
              "      background-color: #3B4455;\n",
              "      fill: #D2E3FC;\n",
              "    }\n",
              "\n",
              "    [theme=dark] .colab-df-convert:hover {\n",
              "      background-color: #434B5C;\n",
              "      box-shadow: 0px 1px 3px 1px rgba(0, 0, 0, 0.15);\n",
              "      filter: drop-shadow(0px 1px 2px rgba(0, 0, 0, 0.3));\n",
              "      fill: #FFFFFF;\n",
              "    }\n",
              "  </style>\n",
              "\n",
              "    <script>\n",
              "      const buttonEl =\n",
              "        document.querySelector('#df-c5160587-15cd-4a32-adca-922408020efb button.colab-df-convert');\n",
              "      buttonEl.style.display =\n",
              "        google.colab.kernel.accessAllowed ? 'block' : 'none';\n",
              "\n",
              "      async function convertToInteractive(key) {\n",
              "        const element = document.querySelector('#df-c5160587-15cd-4a32-adca-922408020efb');\n",
              "        const dataTable =\n",
              "          await google.colab.kernel.invokeFunction('convertToInteractive',\n",
              "                                                    [key], {});\n",
              "        if (!dataTable) return;\n",
              "\n",
              "        const docLinkHtml = 'Like what you see? Visit the ' +\n",
              "          '<a target=\"_blank\" href=https://colab.research.google.com/notebooks/data_table.ipynb>data table notebook</a>'\n",
              "          + ' to learn more about interactive tables.';\n",
              "        element.innerHTML = '';\n",
              "        dataTable['output_type'] = 'display_data';\n",
              "        await google.colab.output.renderOutput(dataTable, element);\n",
              "        const docLink = document.createElement('div');\n",
              "        docLink.innerHTML = docLinkHtml;\n",
              "        element.appendChild(docLink);\n",
              "      }\n",
              "    </script>\n",
              "  </div>\n",
              "\n",
              "\n",
              "<div id=\"df-3059b2d5-f127-4635-9b6b-935bc497fb1e\">\n",
              "  <button class=\"colab-df-quickchart\" onclick=\"quickchart('df-3059b2d5-f127-4635-9b6b-935bc497fb1e')\"\n",
              "            title=\"Suggest charts\"\n",
              "            style=\"display:none;\">\n",
              "\n",
              "<svg xmlns=\"http://www.w3.org/2000/svg\" height=\"24px\"viewBox=\"0 0 24 24\"\n",
              "     width=\"24px\">\n",
              "    <g>\n",
              "        <path d=\"M19 3H5c-1.1 0-2 .9-2 2v14c0 1.1.9 2 2 2h14c1.1 0 2-.9 2-2V5c0-1.1-.9-2-2-2zM9 17H7v-7h2v7zm4 0h-2V7h2v10zm4 0h-2v-4h2v4z\"/>\n",
              "    </g>\n",
              "</svg>\n",
              "  </button>\n",
              "\n",
              "<style>\n",
              "  .colab-df-quickchart {\n",
              "      --bg-color: #E8F0FE;\n",
              "      --fill-color: #1967D2;\n",
              "      --hover-bg-color: #E2EBFA;\n",
              "      --hover-fill-color: #174EA6;\n",
              "      --disabled-fill-color: #AAA;\n",
              "      --disabled-bg-color: #DDD;\n",
              "  }\n",
              "\n",
              "  [theme=dark] .colab-df-quickchart {\n",
              "      --bg-color: #3B4455;\n",
              "      --fill-color: #D2E3FC;\n",
              "      --hover-bg-color: #434B5C;\n",
              "      --hover-fill-color: #FFFFFF;\n",
              "      --disabled-bg-color: #3B4455;\n",
              "      --disabled-fill-color: #666;\n",
              "  }\n",
              "\n",
              "  .colab-df-quickchart {\n",
              "    background-color: var(--bg-color);\n",
              "    border: none;\n",
              "    border-radius: 50%;\n",
              "    cursor: pointer;\n",
              "    display: none;\n",
              "    fill: var(--fill-color);\n",
              "    height: 32px;\n",
              "    padding: 0;\n",
              "    width: 32px;\n",
              "  }\n",
              "\n",
              "  .colab-df-quickchart:hover {\n",
              "    background-color: var(--hover-bg-color);\n",
              "    box-shadow: 0 1px 2px rgba(60, 64, 67, 0.3), 0 1px 3px 1px rgba(60, 64, 67, 0.15);\n",
              "    fill: var(--button-hover-fill-color);\n",
              "  }\n",
              "\n",
              "  .colab-df-quickchart-complete:disabled,\n",
              "  .colab-df-quickchart-complete:disabled:hover {\n",
              "    background-color: var(--disabled-bg-color);\n",
              "    fill: var(--disabled-fill-color);\n",
              "    box-shadow: none;\n",
              "  }\n",
              "\n",
              "  .colab-df-spinner {\n",
              "    border: 2px solid var(--fill-color);\n",
              "    border-color: transparent;\n",
              "    border-bottom-color: var(--fill-color);\n",
              "    animation:\n",
              "      spin 1s steps(1) infinite;\n",
              "  }\n",
              "\n",
              "  @keyframes spin {\n",
              "    0% {\n",
              "      border-color: transparent;\n",
              "      border-bottom-color: var(--fill-color);\n",
              "      border-left-color: var(--fill-color);\n",
              "    }\n",
              "    20% {\n",
              "      border-color: transparent;\n",
              "      border-left-color: var(--fill-color);\n",
              "      border-top-color: var(--fill-color);\n",
              "    }\n",
              "    30% {\n",
              "      border-color: transparent;\n",
              "      border-left-color: var(--fill-color);\n",
              "      border-top-color: var(--fill-color);\n",
              "      border-right-color: var(--fill-color);\n",
              "    }\n",
              "    40% {\n",
              "      border-color: transparent;\n",
              "      border-right-color: var(--fill-color);\n",
              "      border-top-color: var(--fill-color);\n",
              "    }\n",
              "    60% {\n",
              "      border-color: transparent;\n",
              "      border-right-color: var(--fill-color);\n",
              "    }\n",
              "    80% {\n",
              "      border-color: transparent;\n",
              "      border-right-color: var(--fill-color);\n",
              "      border-bottom-color: var(--fill-color);\n",
              "    }\n",
              "    90% {\n",
              "      border-color: transparent;\n",
              "      border-bottom-color: var(--fill-color);\n",
              "    }\n",
              "  }\n",
              "</style>\n",
              "\n",
              "  <script>\n",
              "    async function quickchart(key) {\n",
              "      const quickchartButtonEl =\n",
              "        document.querySelector('#' + key + ' button');\n",
              "      quickchartButtonEl.disabled = true;  // To prevent multiple clicks.\n",
              "      quickchartButtonEl.classList.add('colab-df-spinner');\n",
              "      try {\n",
              "        const charts = await google.colab.kernel.invokeFunction(\n",
              "            'suggestCharts', [key], {});\n",
              "      } catch (error) {\n",
              "        console.error('Error during call to suggestCharts:', error);\n",
              "      }\n",
              "      quickchartButtonEl.classList.remove('colab-df-spinner');\n",
              "      quickchartButtonEl.classList.add('colab-df-quickchart-complete');\n",
              "    }\n",
              "    (() => {\n",
              "      let quickchartButtonEl =\n",
              "        document.querySelector('#df-3059b2d5-f127-4635-9b6b-935bc497fb1e button');\n",
              "      quickchartButtonEl.style.display =\n",
              "        google.colab.kernel.accessAllowed ? 'block' : 'none';\n",
              "    })();\n",
              "  </script>\n",
              "</div>\n",
              "\n",
              "  <div id=\"id_93370c99-e99f-44d9-bb5b-72213a3f02d3\">\n",
              "    <style>\n",
              "      .colab-df-generate {\n",
              "        background-color: #E8F0FE;\n",
              "        border: none;\n",
              "        border-radius: 50%;\n",
              "        cursor: pointer;\n",
              "        display: none;\n",
              "        fill: #1967D2;\n",
              "        height: 32px;\n",
              "        padding: 0 0 0 0;\n",
              "        width: 32px;\n",
              "      }\n",
              "\n",
              "      .colab-df-generate:hover {\n",
              "        background-color: #E2EBFA;\n",
              "        box-shadow: 0px 1px 2px rgba(60, 64, 67, 0.3), 0px 1px 3px 1px rgba(60, 64, 67, 0.15);\n",
              "        fill: #174EA6;\n",
              "      }\n",
              "\n",
              "      [theme=dark] .colab-df-generate {\n",
              "        background-color: #3B4455;\n",
              "        fill: #D2E3FC;\n",
              "      }\n",
              "\n",
              "      [theme=dark] .colab-df-generate:hover {\n",
              "        background-color: #434B5C;\n",
              "        box-shadow: 0px 1px 3px 1px rgba(0, 0, 0, 0.15);\n",
              "        filter: drop-shadow(0px 1px 2px rgba(0, 0, 0, 0.3));\n",
              "        fill: #FFFFFF;\n",
              "      }\n",
              "    </style>\n",
              "    <button class=\"colab-df-generate\" onclick=\"generateWithVariable('x')\"\n",
              "            title=\"Generate code using this dataframe.\"\n",
              "            style=\"display:none;\">\n",
              "\n",
              "  <svg xmlns=\"http://www.w3.org/2000/svg\" height=\"24px\"viewBox=\"0 0 24 24\"\n",
              "       width=\"24px\">\n",
              "    <path d=\"M7,19H8.4L18.45,9,17,7.55,7,17.6ZM5,21V16.75L18.45,3.32a2,2,0,0,1,2.83,0l1.4,1.43a1.91,1.91,0,0,1,.58,1.4,1.91,1.91,0,0,1-.58,1.4L9.25,21ZM18.45,9,17,7.55Zm-12,3A5.31,5.31,0,0,0,4.9,8.1,5.31,5.31,0,0,0,1,6.5,5.31,5.31,0,0,0,4.9,4.9,5.31,5.31,0,0,0,6.5,1,5.31,5.31,0,0,0,8.1,4.9,5.31,5.31,0,0,0,12,6.5,5.46,5.46,0,0,0,6.5,12Z\"/>\n",
              "  </svg>\n",
              "    </button>\n",
              "    <script>\n",
              "      (() => {\n",
              "      const buttonEl =\n",
              "        document.querySelector('#id_93370c99-e99f-44d9-bb5b-72213a3f02d3 button.colab-df-generate');\n",
              "      buttonEl.style.display =\n",
              "        google.colab.kernel.accessAllowed ? 'block' : 'none';\n",
              "\n",
              "      buttonEl.onclick = () => {\n",
              "        google.colab.notebook.generateWithVariable('x');\n",
              "      }\n",
              "      })();\n",
              "    </script>\n",
              "  </div>\n",
              "\n",
              "    </div>\n",
              "  </div>\n"
            ],
            "application/vnd.google.colaboratory.intrinsic+json": {
              "type": "dataframe",
              "variable_name": "x",
              "summary": "{\n  \"name\": \"x\",\n  \"rows\": 943,\n  \"fields\": [\n    {\n      \"column\": \"interviews\",\n      \"properties\": {\n        \"dtype\": \"number\",\n        \"std\": 1.000530644770696,\n        \"min\": -0.7782323099181964,\n        \"max\": 6.430736926357434,\n        \"num_unique_values\": 18,\n        \"samples\": [\n          2.826252308219619,\n          0.6635615373369298,\n          6.430736926357434\n        ],\n        \"semantic_type\": \"\",\n        \"description\": \"\"\n      }\n    },\n    {\n      \"column\": \"applications\",\n      \"properties\": {\n        \"dtype\": \"number\",\n        \"std\": 1.000530644770696,\n        \"min\": -0.8344134802810053,\n        \"max\": 8.702896442509068,\n        \"num_unique_values\": 35,\n        \"samples\": [\n          3.6958087330442795,\n          3.934241481114031,\n          2.2652122446257685\n        ],\n        \"semantic_type\": \"\",\n        \"description\": \"\"\n      }\n    },\n    {\n      \"column\": \"visa_Canada Citizen\",\n      \"properties\": {\n        \"dtype\": \"number\",\n        \"std\": 1.0005306447706965,\n        \"min\": -0.09816299865055327,\n        \"max\": 10.187137859957417,\n        \"num_unique_values\": 2,\n        \"samples\": [\n          10.187137859957417,\n          -0.09816299865055327\n        ],\n        \"semantic_type\": \"\",\n        \"description\": \"\"\n      }\n    },\n    {\n      \"column\": \"visa_Citizen\",\n      \"properties\": {\n        \"dtype\": \"number\",\n        \"std\": 1.0005306447706963,\n        \"min\": -1.1475858647409862,\n        \"max\": 0.8713944905775771,\n        \"num_unique_values\": 2,\n        \"samples\": [\n          0.8713944905775771,\n          -1.1475858647409862\n        ],\n        \"semantic_type\": \"\",\n        \"description\": \"\"\n      }\n    },\n    {\n      \"column\": \"visa_F1 Visa/CPT\",\n      \"properties\": {\n        \"dtype\": \"number\",\n        \"std\": 1.0005306447706963,\n        \"min\": -0.2238556646024626,\n        \"max\": 4.467164151400254,\n        \"num_unique_values\": 2,\n        \"samples\": [\n          4.467164151400254,\n          -0.2238556646024626\n        ],\n        \"semantic_type\": \"\",\n        \"description\": \"\"\n      }\n    },\n    {\n      \"column\": \"visa_F1 Visa/OPT\",\n      \"properties\": {\n        \"dtype\": \"number\",\n        \"std\": 1.0005306447706963,\n        \"min\": -0.5679618342470648,\n        \"max\": 1.760681686165901,\n        \"num_unique_values\": 2,\n        \"samples\": [\n          -0.5679618342470648,\n          1.760681686165901\n        ],\n        \"semantic_type\": \"\",\n        \"description\": \"\"\n      }\n    },\n    {\n      \"column\": \"visa_Green Card\",\n      \"properties\": {\n        \"dtype\": \"number\",\n        \"std\": 1.000530644770696,\n        \"min\": -0.27208802006077415,\n        \"max\": 3.675281255590149,\n        \"num_unique_values\": 2,\n        \"samples\": [\n          3.675281255590149,\n          -0.27208802006077415\n        ],\n        \"semantic_type\": \"\",\n        \"description\": \"\"\n      }\n    },\n    {\n      \"column\": \"visa_H1B\",\n      \"properties\": {\n        \"dtype\": \"number\",\n        \"std\": 1.0005306447706965,\n        \"min\": -0.11353134489128947,\n        \"max\": 8.80814017448254,\n        \"num_unique_values\": 2,\n        \"samples\": [\n          8.80814017448254,\n          -0.11353134489128947\n        ],\n        \"semantic_type\": \"\",\n        \"description\": \"\"\n      }\n    },\n    {\n      \"column\": \"visa_Other\",\n      \"properties\": {\n        \"dtype\": \"number\",\n        \"std\": 1.0005306447706963,\n        \"min\": -0.2212312597720623,\n        \"max\": 4.520156875797363,\n        \"num_unique_values\": 2,\n        \"samples\": [\n          4.520156875797363,\n          -0.2212312597720623\n        ],\n        \"semantic_type\": \"\",\n        \"description\": \"\"\n      }\n    },\n    {\n      \"column\": \"visa_STEM OPT\",\n      \"properties\": {\n        \"dtype\": \"number\",\n        \"std\": 1.0005306447706963,\n        \"min\": -0.046102044555757414,\n        \"max\": 21.69101196348386,\n        \"num_unique_values\": 2,\n        \"samples\": [\n          21.69101196348386,\n          -0.046102044555757414\n        ],\n        \"semantic_type\": \"\",\n        \"description\": \"\"\n      }\n    },\n    {\n      \"column\": \"experience_1-2 years\",\n      \"properties\": {\n        \"dtype\": \"number\",\n        \"std\": 1.000530644770696,\n        \"min\": -0.819747409634722,\n        \"max\": 1.219887965788874,\n        \"num_unique_values\": 2,\n        \"samples\": [\n          -0.819747409634722,\n          1.219887965788874\n        ],\n        \"semantic_type\": \"\",\n        \"description\": \"\"\n      }\n    },\n    {\n      \"column\": \"experience_3-4 years\",\n      \"properties\": {\n        \"dtype\": \"number\",\n        \"std\": 1.000530644770696,\n        \"min\": -0.5548924999911813,\n        \"max\": 1.8021508670884765,\n        \"num_unique_values\": 2,\n        \"samples\": [\n          1.8021508670884765,\n          -0.5548924999911813\n        ],\n        \"semantic_type\": \"\",\n        \"description\": \"\"\n      }\n    },\n    {\n      \"column\": \"experience_5+ years\",\n      \"properties\": {\n        \"dtype\": \"number\",\n        \"std\": 1.0005306447706963,\n        \"min\": -0.3520754063775596,\n        \"max\": 2.840300634142043,\n        \"num_unique_values\": 2,\n        \"samples\": [\n          2.840300634142043,\n          -0.3520754063775596\n        ],\n        \"semantic_type\": \"\",\n        \"description\": \"\"\n      }\n    },\n    {\n      \"column\": \"experience_Less than one year\",\n      \"properties\": {\n        \"dtype\": \"number\",\n        \"std\": 1.0005306447706963,\n        \"min\": -0.5810237968295874,\n        \"max\": 1.7210999023733573,\n        \"num_unique_values\": 2,\n        \"samples\": [\n          1.7210999023733573,\n          -0.5810237968295874\n        ],\n        \"semantic_type\": \"\",\n        \"description\": \"\"\n      }\n    },\n    {\n      \"column\": \"education_Bachelor\",\n      \"properties\": {\n        \"dtype\": \"number\",\n        \"std\": 1.0005306447706963,\n        \"min\": -1.1328252196204993,\n        \"max\": 0.8827487088740872,\n        \"num_unique_values\": 2,\n        \"samples\": [\n          -1.1328252196204993,\n          0.8827487088740872\n        ],\n        \"semantic_type\": \"\",\n        \"description\": \"\"\n      }\n    },\n    {\n      \"column\": \"education_College\",\n      \"properties\": {\n        \"dtype\": \"number\",\n        \"std\": 1.0005306447706965,\n        \"min\": -0.23411502173172788,\n        \"max\": 4.271404682207444,\n        \"num_unique_values\": 2,\n        \"samples\": [\n          4.271404682207444,\n          -0.23411502173172788\n        ],\n        \"semantic_type\": \"\",\n        \"description\": \"\"\n      }\n    },\n    {\n      \"column\": \"education_High School\",\n      \"properties\": {\n        \"dtype\": \"number\",\n        \"std\": 1.0005306447706965,\n        \"min\": -0.14339724740304668,\n        \"max\": 6.9736345579165855,\n        \"num_unique_values\": 2,\n        \"samples\": [\n          6.9736345579165855,\n          -0.14339724740304668\n        ],\n        \"semantic_type\": \"\",\n        \"description\": \"\"\n      }\n    },\n    {\n      \"column\": \"education_Master\",\n      \"properties\": {\n        \"dtype\": \"number\",\n        \"std\": 1.000530644770696,\n        \"min\": -0.6581266588493022,\n        \"max\": 1.5194643562204941,\n        \"num_unique_values\": 2,\n        \"samples\": [\n          1.5194643562204941,\n          -0.6581266588493022\n        ],\n        \"semantic_type\": \"\",\n        \"description\": \"\"\n      }\n    },\n    {\n      \"column\": \"education_PHD\",\n      \"properties\": {\n        \"dtype\": \"number\",\n        \"std\": 1.0005306447706965,\n        \"min\": -0.2606725337956124,\n        \"max\": 3.8362307890254295,\n        \"num_unique_values\": 2,\n        \"samples\": [\n          3.8362307890254295,\n          -0.2606725337956124\n        ],\n        \"semantic_type\": \"\",\n        \"description\": \"\"\n      }\n    }\n  ]\n}"
            }
          },
          "metadata": {},
          "execution_count": 29
        }
      ]
    },
    {
      "cell_type": "markdown",
      "source": [
        "## Using Linear Regression to predict the numbers of days for the program placement ##  "
      ],
      "metadata": {
        "id": "-vUJMVgGA0Ul"
      }
    },
    {
      "cell_type": "code",
      "source": [
        "x_train,x_test,y_d_train,y_d_test = train_test_split(x,y_d,test_size=0.2,random_state=101)\n"
      ],
      "metadata": {
        "id": "VNLhgXNLoZpR"
      },
      "execution_count": 30,
      "outputs": []
    },
    {
      "cell_type": "code",
      "source": [
        "lr = LinearRegression()"
      ],
      "metadata": {
        "id": "Gtpw7mcPo5Dw"
      },
      "execution_count": 31,
      "outputs": []
    },
    {
      "cell_type": "code",
      "source": [
        "lr.fit(x_train,y_d_train)"
      ],
      "metadata": {
        "colab": {
          "base_uri": "https://localhost:8080/",
          "height": 75
        },
        "id": "a1TOSstOo_c6",
        "outputId": "3584336a-6f76-4d8f-e105-bfcc5edf68bf"
      },
      "execution_count": 32,
      "outputs": [
        {
          "output_type": "execute_result",
          "data": {
            "text/plain": [
              "LinearRegression()"
            ],
            "text/html": [
              "<style>#sk-container-id-1 {color: black;background-color: white;}#sk-container-id-1 pre{padding: 0;}#sk-container-id-1 div.sk-toggleable {background-color: white;}#sk-container-id-1 label.sk-toggleable__label {cursor: pointer;display: block;width: 100%;margin-bottom: 0;padding: 0.3em;box-sizing: border-box;text-align: center;}#sk-container-id-1 label.sk-toggleable__label-arrow:before {content: \"▸\";float: left;margin-right: 0.25em;color: #696969;}#sk-container-id-1 label.sk-toggleable__label-arrow:hover:before {color: black;}#sk-container-id-1 div.sk-estimator:hover label.sk-toggleable__label-arrow:before {color: black;}#sk-container-id-1 div.sk-toggleable__content {max-height: 0;max-width: 0;overflow: hidden;text-align: left;background-color: #f0f8ff;}#sk-container-id-1 div.sk-toggleable__content pre {margin: 0.2em;color: black;border-radius: 0.25em;background-color: #f0f8ff;}#sk-container-id-1 input.sk-toggleable__control:checked~div.sk-toggleable__content {max-height: 200px;max-width: 100%;overflow: auto;}#sk-container-id-1 input.sk-toggleable__control:checked~label.sk-toggleable__label-arrow:before {content: \"▾\";}#sk-container-id-1 div.sk-estimator input.sk-toggleable__control:checked~label.sk-toggleable__label {background-color: #d4ebff;}#sk-container-id-1 div.sk-label input.sk-toggleable__control:checked~label.sk-toggleable__label {background-color: #d4ebff;}#sk-container-id-1 input.sk-hidden--visually {border: 0;clip: rect(1px 1px 1px 1px);clip: rect(1px, 1px, 1px, 1px);height: 1px;margin: -1px;overflow: hidden;padding: 0;position: absolute;width: 1px;}#sk-container-id-1 div.sk-estimator {font-family: monospace;background-color: #f0f8ff;border: 1px dotted black;border-radius: 0.25em;box-sizing: border-box;margin-bottom: 0.5em;}#sk-container-id-1 div.sk-estimator:hover {background-color: #d4ebff;}#sk-container-id-1 div.sk-parallel-item::after {content: \"\";width: 100%;border-bottom: 1px solid gray;flex-grow: 1;}#sk-container-id-1 div.sk-label:hover label.sk-toggleable__label {background-color: #d4ebff;}#sk-container-id-1 div.sk-serial::before {content: \"\";position: absolute;border-left: 1px solid gray;box-sizing: border-box;top: 0;bottom: 0;left: 50%;z-index: 0;}#sk-container-id-1 div.sk-serial {display: flex;flex-direction: column;align-items: center;background-color: white;padding-right: 0.2em;padding-left: 0.2em;position: relative;}#sk-container-id-1 div.sk-item {position: relative;z-index: 1;}#sk-container-id-1 div.sk-parallel {display: flex;align-items: stretch;justify-content: center;background-color: white;position: relative;}#sk-container-id-1 div.sk-item::before, #sk-container-id-1 div.sk-parallel-item::before {content: \"\";position: absolute;border-left: 1px solid gray;box-sizing: border-box;top: 0;bottom: 0;left: 50%;z-index: -1;}#sk-container-id-1 div.sk-parallel-item {display: flex;flex-direction: column;z-index: 1;position: relative;background-color: white;}#sk-container-id-1 div.sk-parallel-item:first-child::after {align-self: flex-end;width: 50%;}#sk-container-id-1 div.sk-parallel-item:last-child::after {align-self: flex-start;width: 50%;}#sk-container-id-1 div.sk-parallel-item:only-child::after {width: 0;}#sk-container-id-1 div.sk-dashed-wrapped {border: 1px dashed gray;margin: 0 0.4em 0.5em 0.4em;box-sizing: border-box;padding-bottom: 0.4em;background-color: white;}#sk-container-id-1 div.sk-label label {font-family: monospace;font-weight: bold;display: inline-block;line-height: 1.2em;}#sk-container-id-1 div.sk-label-container {text-align: center;}#sk-container-id-1 div.sk-container {/* jupyter's `normalize.less` sets `[hidden] { display: none; }` but bootstrap.min.css set `[hidden] { display: none !important; }` so we also need the `!important` here to be able to override the default hidden behavior on the sphinx rendered scikit-learn.org. See: https://github.com/scikit-learn/scikit-learn/issues/21755 */display: inline-block !important;position: relative;}#sk-container-id-1 div.sk-text-repr-fallback {display: none;}</style><div id=\"sk-container-id-1\" class=\"sk-top-container\"><div class=\"sk-text-repr-fallback\"><pre>LinearRegression()</pre><b>In a Jupyter environment, please rerun this cell to show the HTML representation or trust the notebook. <br />On GitHub, the HTML representation is unable to render, please try loading this page with nbviewer.org.</b></div><div class=\"sk-container\" hidden><div class=\"sk-item\"><div class=\"sk-estimator sk-toggleable\"><input class=\"sk-toggleable__control sk-hidden--visually\" id=\"sk-estimator-id-1\" type=\"checkbox\" checked><label for=\"sk-estimator-id-1\" class=\"sk-toggleable__label sk-toggleable__label-arrow\">LinearRegression</label><div class=\"sk-toggleable__content\"><pre>LinearRegression()</pre></div></div></div></div></div>"
            ]
          },
          "metadata": {},
          "execution_count": 32
        }
      ]
    },
    {
      "cell_type": "code",
      "source": [
        "lr.intercept_\n",
        "lr.coef_"
      ],
      "metadata": {
        "colab": {
          "base_uri": "https://localhost:8080/"
        },
        "id": "WvfnMw8wpGPZ",
        "outputId": "801f496c-5e8d-40b9-e843-7fe5b2452af2"
      },
      "execution_count": null,
      "outputs": [
        {
          "output_type": "execute_result",
          "data": {
            "text/plain": [
              "array([ 2.24350464e-02,  6.41595521e-01, -1.29267704e+01,  2.70311000e+01,\n",
              "       -4.16255536e+01, -1.51231139e+01,  4.20027425e+01, -5.39216595e-02,\n",
              "       -4.04267653e+00,  5.18247922e+00, -3.27831258e+00,  2.19243155e+00,\n",
              "        8.45311304e+00, -2.32546140e+01, -2.04592847e+01,  8.03905415e+00,\n",
              "        2.72217315e+01, -1.13669748e+00,  1.01869711e+00, -1.08542556e+01,\n",
              "       -5.32010007e+00,  1.62923560e+01, -9.05561902e+00,  1.98247182e+01,\n",
              "        2.27482617e+01,  1.42931220e+00, -1.10387800e+01, -1.23777105e+01,\n",
              "       -2.76854298e+01, -2.23151239e+01,  1.24793615e+01,  2.59910096e+01,\n",
              "        1.21187551e+01, -1.80907713e+00, -9.32330321e+00, -9.86374766e-01,\n",
              "        2.26458929e+01, -1.42502179e+01, -6.43656295e+00, -1.23862456e+01,\n",
              "        1.34467713e+00, -3.49841405e+01, -4.71925619e+01,  9.12591589e+01,\n",
              "        1.31409832e+01,  2.23416109e+01,  1.02448451e+01, -1.11378081e+01,\n",
              "       -3.07479026e+00,  2.04676410e+01,  1.17881446e+01,  3.19571324e+00,\n",
              "       -7.43878881e+01, -4.04425410e+01, -2.26063420e+01, -6.29914235e+01,\n",
              "        5.10564302e+01,  1.77635684e-14,  1.28235471e+02, -9.77600762e+00,\n",
              "       -3.94976733e+01,  3.44363422e+00,  8.94523462e+00,  4.48583330e+00,\n",
              "       -8.17631947e+00,  2.40729994e+01,  4.04665525e+01,  7.61828039e+00,\n",
              "        6.18324761e+00,  5.70153953e-02,  5.17364827e+01,  1.14312260e+01,\n",
              "        4.31961309e+00,  4.81604521e+00,  1.96360278e+01,  5.38348170e+00,\n",
              "       -9.28707732e+00, -5.56975971e-01,  2.06875508e+01,  1.30745213e+01,\n",
              "       -4.84918579e+00,  5.88942715e+00, -1.68241563e-01,  7.05508784e+00,\n",
              "        2.95898199e+00, -1.03899599e+01, -3.68946594e+01, -2.52576991e+01,\n",
              "        3.23954204e+01, -9.79708787e+01,  2.09603203e+01, -5.60112530e+01,\n",
              "       -1.96867911e+01,  2.96673056e-01,  7.12195351e+01,  5.20361551e+00,\n",
              "       -9.96441319e+01])"
            ]
          },
          "metadata": {},
          "execution_count": 70
        }
      ]
    },
    {
      "cell_type": "code",
      "source": [
        "prediction = lr.predict(x_test)"
      ],
      "metadata": {
        "id": "utoj6tkWpKpi"
      },
      "execution_count": 33,
      "outputs": []
    },
    {
      "cell_type": "code",
      "source": [
        "residual = prediction - y_d_test"
      ],
      "metadata": {
        "id": "_vF3yfQgpTOz"
      },
      "execution_count": 34,
      "outputs": []
    },
    {
      "cell_type": "code",
      "source": [
        "sns.distplot(residual,bins=30)"
      ],
      "metadata": {
        "colab": {
          "base_uri": "https://localhost:8080/",
          "height": 663
        },
        "id": "fTtlMWkLpeuD",
        "outputId": "a0c7f21a-ce8b-4ccf-aecb-8c1b58fe07d3"
      },
      "execution_count": 35,
      "outputs": [
        {
          "output_type": "stream",
          "name": "stderr",
          "text": [
            "<ipython-input-35-9b74ba467209>:1: UserWarning: \n",
            "\n",
            "`distplot` is a deprecated function and will be removed in seaborn v0.14.0.\n",
            "\n",
            "Please adapt your code to use either `displot` (a figure-level function with\n",
            "similar flexibility) or `histplot` (an axes-level function for histograms).\n",
            "\n",
            "For a guide to updating your code to use the new functions, please see\n",
            "https://gist.github.com/mwaskom/de44147ed2974457ad6372750bbe5751\n",
            "\n",
            "  sns.distplot(residual,bins=30)\n"
          ]
        },
        {
          "output_type": "execute_result",
          "data": {
            "text/plain": [
              "<Axes: xlabel='days', ylabel='Density'>"
            ]
          },
          "metadata": {},
          "execution_count": 35
        },
        {
          "output_type": "display_data",
          "data": {
            "text/plain": [
              "<Figure size 640x480 with 1 Axes>"
            ],
            "image/png": "[encoded data removed]"
          },
          "metadata": {}
        }
      ]
    },
    {
      "cell_type": "code",
      "source": [
        "print(\"MAE:\",mean_absolute_error(y_d_test,prediction))"
      ],
      "metadata": {
        "colab": {
          "base_uri": "https://localhost:8080/"
        },
        "id": "ZE427fDvpniv",
        "outputId": "93b8565c-03ff-4363-e3ec-c719ef51bddb"
      },
      "execution_count": 36,
      "outputs": [
        {
          "output_type": "stream",
          "name": "stdout",
          "text": [
            "MAE: 81.1160818173884\n"
          ]
        }
      ]
    },
    {
      "cell_type": "code",
      "source": [
        "df"
      ],
      "metadata": {
        "colab": {
          "base_uri": "https://localhost:8080/",
          "height": 424
        },
        "id": "6tvluqP7qTTy",
        "outputId": "ed07735f-2755-4bc3-cbd1-615da45893eb"
      },
      "execution_count": null,
      "outputs": [
        {
          "output_type": "execute_result",
          "data": {
            "text/plain": [
              "       track  days  placed   employment_status education   job_search  \\\n",
              "4        SWE    89       1          Unemployed  Bachelor   1-2 months   \n",
              "7        SWE    19       0  Employed Part-Time  Bachelor    0-1 month   \n",
              "23       PSO   193       1          Unemployed    Master  6-12 months   \n",
              "30       SWE    73       1             Student    Master    0-1 month   \n",
              "39       SWE    83       1  Employed Full-Time    Master   3-5 months   \n",
              "...      ...   ...     ...                 ...       ...          ...   \n",
              "2527     SWE    31       1             Student  Bachelor   1-2 months   \n",
              "2528  Design   277       1             Student       PHD    0-1 month   \n",
              "2531     SWE   310       1          Unemployed       PHD    0-1 month   \n",
              "2533  Design    33       1             Student  Bachelor   1-2 months   \n",
              "2534     SWE   119       1  Employed Full-Time  Bachelor   1-2 months   \n",
              "\n",
              "                                 challenge          experience         visa  \\\n",
              "4          Hearing back on my applications           1-2 years  F1 Visa/OPT   \n",
              "7      Getting past final round interviews           1-2 years      Citizen   \n",
              "23         Hearing back on my applications           1-2 years      Citizen   \n",
              "30    Figuring out which jobs to apply for           1-2 years  F1 Visa/CPT   \n",
              "39     Getting past final round interviews            5+ years  F1 Visa/OPT   \n",
              "...                                    ...                 ...          ...   \n",
              "2527  Figuring out which jobs to apply for  Less than one year      Citizen   \n",
              "2528                Technical interviewing            5+ years        Other   \n",
              "2531                      Technical skills           1-2 years  F1 Visa/OPT   \n",
              "2533       Hearing back on my applications           3-4 years  F1 Visa/OPT   \n",
              "2534            Getting past phone screens           1-2 years      Citizen   \n",
              "\n",
              "      interviews  applications  \n",
              "4             10           100  \n",
              "7              4            15  \n",
              "23             5             4  \n",
              "30             0             1  \n",
              "39             2            15  \n",
              "...          ...           ...  \n",
              "2527           6             6  \n",
              "2528           2            45  \n",
              "2531           0             6  \n",
              "2533           0             9  \n",
              "2534           0            10  \n",
              "\n",
              "[943 rows x 11 columns]"
            ],
            "text/html": [
              "\n",
              "  <div id=\"df-a6e42b92-067f-4080-bd0d-55eeb0c7e5d7\" class=\"colab-df-container\">\n",
              "    <div>\n",
              "<style scoped>\n",
              "    .dataframe tbody tr th:only-of-type {\n",
              "        vertical-align: middle;\n",
              "    }\n",
              "\n",
              "    .dataframe tbody tr th {\n",
              "        vertical-align: top;\n",
              "    }\n",
              "\n",
              "    .dataframe thead th {\n",
              "        text-align: right;\n",
              "    }\n",
              "</style>\n",
              "<table border=\"1\" class=\"dataframe\">\n",
              "  <thead>\n",
              "    <tr style=\"text-align: right;\">\n",
              "      <th></th>\n",
              "      <th>track</th>\n",
              "      <th>days</th>\n",
              "      <th>placed</th>\n",
              "      <th>employment_status</th>\n",
              "      <th>education</th>\n",
              "      <th>job_search</th>\n",
              "      <th>challenge</th>\n",
              "      <th>experience</th>\n",
              "      <th>visa</th>\n",
              "      <th>interviews</th>\n",
              "      <th>applications</th>\n",
              "    </tr>\n",
              "  </thead>\n",
              "  <tbody>\n",
              "    <tr>\n",
              "      <th>4</th>\n",
              "      <td>SWE</td>\n",
              "      <td>89</td>\n",
              "      <td>1</td>\n",
              "      <td>Unemployed</td>\n",
              "      <td>Bachelor</td>\n",
              "      <td>1-2 months</td>\n",
              "      <td>Hearing back on my applications</td>\n",
              "      <td>1-2 years</td>\n",
              "      <td>F1 Visa/OPT</td>\n",
              "      <td>10</td>\n",
              "      <td>100</td>\n",
              "    </tr>\n",
              "    <tr>\n",
              "      <th>7</th>\n",
              "      <td>SWE</td>\n",
              "      <td>19</td>\n",
              "      <td>0</td>\n",
              "      <td>Employed Part-Time</td>\n",
              "      <td>Bachelor</td>\n",
              "      <td>0-1 month</td>\n",
              "      <td>Getting past final round interviews</td>\n",
              "      <td>1-2 years</td>\n",
              "      <td>Citizen</td>\n",
              "      <td>4</td>\n",
              "      <td>15</td>\n",
              "    </tr>\n",
              "    <tr>\n",
              "      <th>23</th>\n",
              "      <td>PSO</td>\n",
              "      <td>193</td>\n",
              "      <td>1</td>\n",
              "      <td>Unemployed</td>\n",
              "      <td>Master</td>\n",
              "      <td>6-12 months</td>\n",
              "      <td>Hearing back on my applications</td>\n",
              "      <td>1-2 years</td>\n",
              "      <td>Citizen</td>\n",
              "      <td>5</td>\n",
              "      <td>4</td>\n",
              "    </tr>\n",
              "    <tr>\n",
              "      <th>30</th>\n",
              "      <td>SWE</td>\n",
              "      <td>73</td>\n",
              "      <td>1</td>\n",
              "      <td>Student</td>\n",
              "      <td>Master</td>\n",
              "      <td>0-1 month</td>\n",
              "      <td>Figuring out which jobs to apply for</td>\n",
              "      <td>1-2 years</td>\n",
              "      <td>F1 Visa/CPT</td>\n",
              "      <td>0</td>\n",
              "      <td>1</td>\n",
              "    </tr>\n",
              "    <tr>\n",
              "      <th>39</th>\n",
              "      <td>SWE</td>\n",
              "      <td>83</td>\n",
              "      <td>1</td>\n",
              "      <td>Employed Full-Time</td>\n",
              "      <td>Master</td>\n",
              "      <td>3-5 months</td>\n",
              "      <td>Getting past final round interviews</td>\n",
              "      <td>5+ years</td>\n",
              "      <td>F1 Visa/OPT</td>\n",
              "      <td>2</td>\n",
              "      <td>15</td>\n",
              "    </tr>\n",
              "    <tr>\n",
              "      <th>...</th>\n",
              "      <td>...</td>\n",
              "      <td>...</td>\n",
              "      <td>...</td>\n",
              "      <td>...</td>\n",
              "      <td>...</td>\n",
              "      <td>...</td>\n",
              "      <td>...</td>\n",
              "      <td>...</td>\n",
              "      <td>...</td>\n",
              "      <td>...</td>\n",
              "      <td>...</td>\n",
              "    </tr>\n",
              "    <tr>\n",
              "      <th>2527</th>\n",
              "      <td>SWE</td>\n",
              "      <td>31</td>\n",
              "      <td>1</td>\n",
              "      <td>Student</td>\n",
              "      <td>Bachelor</td>\n",
              "      <td>1-2 months</td>\n",
              "      <td>Figuring out which jobs to apply for</td>\n",
              "      <td>Less than one year</td>\n",
              "      <td>Citizen</td>\n",
              "      <td>6</td>\n",
              "      <td>6</td>\n",
              "    </tr>\n",
              "    <tr>\n",
              "      <th>2528</th>\n",
              "      <td>Design</td>\n",
              "      <td>277</td>\n",
              "      <td>1</td>\n",
              "      <td>Student</td>\n",
              "      <td>PHD</td>\n",
              "      <td>0-1 month</td>\n",
              "      <td>Technical interviewing</td>\n",
              "      <td>5+ years</td>\n",
              "      <td>Other</td>\n",
              "      <td>2</td>\n",
              "      <td>45</td>\n",
              "    </tr>\n",
              "    <tr>\n",
              "      <th>2531</th>\n",
              "      <td>SWE</td>\n",
              "      <td>310</td>\n",
              "      <td>1</td>\n",
              "      <td>Unemployed</td>\n",
              "      <td>PHD</td>\n",
              "      <td>0-1 month</td>\n",
              "      <td>Technical skills</td>\n",
              "      <td>1-2 years</td>\n",
              "      <td>F1 Visa/OPT</td>\n",
              "      <td>0</td>\n",
              "      <td>6</td>\n",
              "    </tr>\n",
              "    <tr>\n",
              "      <th>2533</th>\n",
              "      <td>Design</td>\n",
              "      <td>33</td>\n",
              "      <td>1</td>\n",
              "      <td>Student</td>\n",
              "      <td>Bachelor</td>\n",
              "      <td>1-2 months</td>\n",
              "      <td>Hearing back on my applications</td>\n",
              "      <td>3-4 years</td>\n",
              "      <td>F1 Visa/OPT</td>\n",
              "      <td>0</td>\n",
              "      <td>9</td>\n",
              "    </tr>\n",
              "    <tr>\n",
              "      <th>2534</th>\n",
              "      <td>SWE</td>\n",
              "      <td>119</td>\n",
              "      <td>1</td>\n",
              "      <td>Employed Full-Time</td>\n",
              "      <td>Bachelor</td>\n",
              "      <td>1-2 months</td>\n",
              "      <td>Getting past phone screens</td>\n",
              "      <td>1-2 years</td>\n",
              "      <td>Citizen</td>\n",
              "      <td>0</td>\n",
              "      <td>10</td>\n",
              "    </tr>\n",
              "  </tbody>\n",
              "</table>\n",
              "<p>943 rows × 11 columns</p>\n",
              "</div>\n",
              "    <div class=\"colab-df-buttons\">\n",
              "\n",
              "  <div class=\"colab-df-container\">\n",
              "    <button class=\"colab-df-convert\" onclick=\"convertToInteractive('df-a6e42b92-067f-4080-bd0d-55eeb0c7e5d7')\"\n",
              "            title=\"Convert this dataframe to an interactive table.\"\n",
              "            style=\"display:none;\">\n",
              "\n",
              "  <svg xmlns=\"http://www.w3.org/2000/svg\" height=\"24px\" viewBox=\"0 -960 960 960\">\n",
              "    <path d=\"M120-120v-720h720v720H120Zm60-500h600v-160H180v160Zm220 220h160v-160H400v160Zm0 220h160v-160H400v160ZM180-400h160v-160H180v160Zm440 0h160v-160H620v160ZM180-180h160v-160H180v160Zm440 0h160v-160H620v160Z\"/>\n",
              "  </svg>\n",
              "    </button>\n",
              "\n",
              "  <style>\n",
              "    .colab-df-container {\n",
              "      display:flex;\n",
              "      gap: 12px;\n",
              "    }\n",
              "\n",
              "    .colab-df-convert {\n",
              "      background-color: #E8F0FE;\n",
              "      border: none;\n",
              "      border-radius: 50%;\n",
              "      cursor: pointer;\n",
              "      display: none;\n",
              "      fill: #1967D2;\n",
              "      height: 32px;\n",
              "      padding: 0 0 0 0;\n",
              "      width: 32px;\n",
              "    }\n",
              "\n",
              "    .colab-df-convert:hover {\n",
              "      background-color: #E2EBFA;\n",
              "      box-shadow: 0px 1px 2px rgba(60, 64, 67, 0.3), 0px 1px 3px 1px rgba(60, 64, 67, 0.15);\n",
              "      fill: #174EA6;\n",
              "    }\n",
              "\n",
              "    .colab-df-buttons div {\n",
              "      margin-bottom: 4px;\n",
              "    }\n",
              "\n",
              "    [theme=dark] .colab-df-convert {\n",
              "      background-color: #3B4455;\n",
              "      fill: #D2E3FC;\n",
              "    }\n",
              "\n",
              "    [theme=dark] .colab-df-convert:hover {\n",
              "      background-color: #434B5C;\n",
              "      box-shadow: 0px 1px 3px 1px rgba(0, 0, 0, 0.15);\n",
              "      filter: drop-shadow(0px 1px 2px rgba(0, 0, 0, 0.3));\n",
              "      fill: #FFFFFF;\n",
              "    }\n",
              "  </style>\n",
              "\n",
              "    <script>\n",
              "      const buttonEl =\n",
              "        document.querySelector('#df-a6e42b92-067f-4080-bd0d-55eeb0c7e5d7 button.colab-df-convert');\n",
              "      buttonEl.style.display =\n",
              "        google.colab.kernel.accessAllowed ? 'block' : 'none';\n",
              "\n",
              "      async function convertToInteractive(key) {\n",
              "        const element = document.querySelector('#df-a6e42b92-067f-4080-bd0d-55eeb0c7e5d7');\n",
              "        const dataTable =\n",
              "          await google.colab.kernel.invokeFunction('convertToInteractive',\n",
              "                                                    [key], {});\n",
              "        if (!dataTable) return;\n",
              "\n",
              "        const docLinkHtml = 'Like what you see? Visit the ' +\n",
              "          '<a target=\"_blank\" href=https://colab.research.google.com/notebooks/data_table.ipynb>data table notebook</a>'\n",
              "          + ' to learn more about interactive tables.';\n",
              "        element.innerHTML = '';\n",
              "        dataTable['output_type'] = 'display_data';\n",
              "        await google.colab.output.renderOutput(dataTable, element);\n",
              "        const docLink = document.createElement('div');\n",
              "        docLink.innerHTML = docLinkHtml;\n",
              "        element.appendChild(docLink);\n",
              "      }\n",
              "    </script>\n",
              "  </div>\n",
              "\n",
              "\n",
              "<div id=\"df-525f62b9-5acc-4abb-8c30-a547474a1f42\">\n",
              "  <button class=\"colab-df-quickchart\" onclick=\"quickchart('df-525f62b9-5acc-4abb-8c30-a547474a1f42')\"\n",
              "            title=\"Suggest charts\"\n",
              "            style=\"display:none;\">\n",
              "\n",
              "<svg xmlns=\"http://www.w3.org/2000/svg\" height=\"24px\"viewBox=\"0 0 24 24\"\n",
              "     width=\"24px\">\n",
              "    <g>\n",
              "        <path d=\"M19 3H5c-1.1 0-2 .9-2 2v14c0 1.1.9 2 2 2h14c1.1 0 2-.9 2-2V5c0-1.1-.9-2-2-2zM9 17H7v-7h2v7zm4 0h-2V7h2v10zm4 0h-2v-4h2v4z\"/>\n",
              "    </g>\n",
              "</svg>\n",
              "  </button>\n",
              "\n",
              "<style>\n",
              "  .colab-df-quickchart {\n",
              "      --bg-color: #E8F0FE;\n",
              "      --fill-color: #1967D2;\n",
              "      --hover-bg-color: #E2EBFA;\n",
              "      --hover-fill-color: #174EA6;\n",
              "      --disabled-fill-color: #AAA;\n",
              "      --disabled-bg-color: #DDD;\n",
              "  }\n",
              "\n",
              "  [theme=dark] .colab-df-quickchart {\n",
              "      --bg-color: #3B4455;\n",
              "      --fill-color: #D2E3FC;\n",
              "      --hover-bg-color: #434B5C;\n",
              "      --hover-fill-color: #FFFFFF;\n",
              "      --disabled-bg-color: #3B4455;\n",
              "      --disabled-fill-color: #666;\n",
              "  }\n",
              "\n",
              "  .colab-df-quickchart {\n",
              "    background-color: var(--bg-color);\n",
              "    border: none;\n",
              "    border-radius: 50%;\n",
              "    cursor: pointer;\n",
              "    display: none;\n",
              "    fill: var(--fill-color);\n",
              "    height: 32px;\n",
              "    padding: 0;\n",
              "    width: 32px;\n",
              "  }\n",
              "\n",
              "  .colab-df-quickchart:hover {\n",
              "    background-color: var(--hover-bg-color);\n",
              "    box-shadow: 0 1px 2px rgba(60, 64, 67, 0.3), 0 1px 3px 1px rgba(60, 64, 67, 0.15);\n",
              "    fill: var(--button-hover-fill-color);\n",
              "  }\n",
              "\n",
              "  .colab-df-quickchart-complete:disabled,\n",
              "  .colab-df-quickchart-complete:disabled:hover {\n",
              "    background-color: var(--disabled-bg-color);\n",
              "    fill: var(--disabled-fill-color);\n",
              "    box-shadow: none;\n",
              "  }\n",
              "\n",
              "  .colab-df-spinner {\n",
              "    border: 2px solid var(--fill-color);\n",
              "    border-color: transparent;\n",
              "    border-bottom-color: var(--fill-color);\n",
              "    animation:\n",
              "      spin 1s steps(1) infinite;\n",
              "  }\n",
              "\n",
              "  @keyframes spin {\n",
              "    0% {\n",
              "      border-color: transparent;\n",
              "      border-bottom-color: var(--fill-color);\n",
              "      border-left-color: var(--fill-color);\n",
              "    }\n",
              "    20% {\n",
              "      border-color: transparent;\n",
              "      border-left-color: var(--fill-color);\n",
              "      border-top-color: var(--fill-color);\n",
              "    }\n",
              "    30% {\n",
              "      border-color: transparent;\n",
              "      border-left-color: var(--fill-color);\n",
              "      border-top-color: var(--fill-color);\n",
              "      border-right-color: var(--fill-color);\n",
              "    }\n",
              "    40% {\n",
              "      border-color: transparent;\n",
              "      border-right-color: var(--fill-color);\n",
              "      border-top-color: var(--fill-color);\n",
              "    }\n",
              "    60% {\n",
              "      border-color: transparent;\n",
              "      border-right-color: var(--fill-color);\n",
              "    }\n",
              "    80% {\n",
              "      border-color: transparent;\n",
              "      border-right-color: var(--fill-color);\n",
              "      border-bottom-color: var(--fill-color);\n",
              "    }\n",
              "    90% {\n",
              "      border-color: transparent;\n",
              "      border-bottom-color: var(--fill-color);\n",
              "    }\n",
              "  }\n",
              "</style>\n",
              "\n",
              "  <script>\n",
              "    async function quickchart(key) {\n",
              "      const quickchartButtonEl =\n",
              "        document.querySelector('#' + key + ' button');\n",
              "      quickchartButtonEl.disabled = true;  // To prevent multiple clicks.\n",
              "      quickchartButtonEl.classList.add('colab-df-spinner');\n",
              "      try {\n",
              "        const charts = await google.colab.kernel.invokeFunction(\n",
              "            'suggestCharts', [key], {});\n",
              "      } catch (error) {\n",
              "        console.error('Error during call to suggestCharts:', error);\n",
              "      }\n",
              "      quickchartButtonEl.classList.remove('colab-df-spinner');\n",
              "      quickchartButtonEl.classList.add('colab-df-quickchart-complete');\n",
              "    }\n",
              "    (() => {\n",
              "      let quickchartButtonEl =\n",
              "        document.querySelector('#df-525f62b9-5acc-4abb-8c30-a547474a1f42 button');\n",
              "      quickchartButtonEl.style.display =\n",
              "        google.colab.kernel.accessAllowed ? 'block' : 'none';\n",
              "    })();\n",
              "  </script>\n",
              "</div>\n",
              "\n",
              "  <div id=\"id_0c760d88-fdde-405b-bb55-81fdfe105337\">\n",
              "    <style>\n",
              "      .colab-df-generate {\n",
              "        background-color: #E8F0FE;\n",
              "        border: none;\n",
              "        border-radius: 50%;\n",
              "        cursor: pointer;\n",
              "        display: none;\n",
              "        fill: #1967D2;\n",
              "        height: 32px;\n",
              "        padding: 0 0 0 0;\n",
              "        width: 32px;\n",
              "      }\n",
              "\n",
              "      .colab-df-generate:hover {\n",
              "        background-color: #E2EBFA;\n",
              "        box-shadow: 0px 1px 2px rgba(60, 64, 67, 0.3), 0px 1px 3px 1px rgba(60, 64, 67, 0.15);\n",
              "        fill: #174EA6;\n",
              "      }\n",
              "\n",
              "      [theme=dark] .colab-df-generate {\n",
              "        background-color: #3B4455;\n",
              "        fill: #D2E3FC;\n",
              "      }\n",
              "\n",
              "      [theme=dark] .colab-df-generate:hover {\n",
              "        background-color: #434B5C;\n",
              "        box-shadow: 0px 1px 3px 1px rgba(0, 0, 0, 0.15);\n",
              "        filter: drop-shadow(0px 1px 2px rgba(0, 0, 0, 0.3));\n",
              "        fill: #FFFFFF;\n",
              "      }\n",
              "    </style>\n",
              "    <button class=\"colab-df-generate\" onclick=\"generateWithVariable('df')\"\n",
              "            title=\"Generate code using this dataframe.\"\n",
              "            style=\"display:none;\">\n",
              "\n",
              "  <svg xmlns=\"http://www.w3.org/2000/svg\" height=\"24px\"viewBox=\"0 0 24 24\"\n",
              "       width=\"24px\">\n",
              "    <path d=\"M7,19H8.4L18.45,9,17,7.55,7,17.6ZM5,21V16.75L18.45,3.32a2,2,0,0,1,2.83,0l1.4,1.43a1.91,1.91,0,0,1,.58,1.4,1.91,1.91,0,0,1-.58,1.4L9.25,21ZM18.45,9,17,7.55Zm-12,3A5.31,5.31,0,0,0,4.9,8.1,5.31,5.31,0,0,0,1,6.5,5.31,5.31,0,0,0,4.9,4.9,5.31,5.31,0,0,0,6.5,1,5.31,5.31,0,0,0,8.1,4.9,5.31,5.31,0,0,0,12,6.5,5.46,5.46,0,0,0,6.5,12Z\"/>\n",
              "  </svg>\n",
              "    </button>\n",
              "    <script>\n",
              "      (() => {\n",
              "      const buttonEl =\n",
              "        document.querySelector('#id_0c760d88-fdde-405b-bb55-81fdfe105337 button.colab-df-generate');\n",
              "      buttonEl.style.display =\n",
              "        google.colab.kernel.accessAllowed ? 'block' : 'none';\n",
              "\n",
              "      buttonEl.onclick = () => {\n",
              "        google.colab.notebook.generateWithVariable('df');\n",
              "      }\n",
              "      })();\n",
              "    </script>\n",
              "  </div>\n",
              "\n",
              "    </div>\n",
              "  </div>\n"
            ],
            "application/vnd.google.colaboratory.intrinsic+json": {
              "type": "dataframe",
              "variable_name": "df",
              "summary": "{\n  \"name\": \"df\",\n  \"rows\": 943,\n  \"fields\": [\n    {\n      \"column\": \"track\",\n      \"properties\": {\n        \"dtype\": \"category\",\n        \"num_unique_values\": 6,\n        \"samples\": [\n          \"SWE\",\n          \"PSO\",\n          \"Marketing\"\n        ],\n        \"semantic_type\": \"\",\n        \"description\": \"\"\n      }\n    },\n    {\n      \"column\": \"days\",\n      \"properties\": {\n        \"dtype\": \"number\",\n        \"std\": 93,\n        \"min\": 14,\n        \"max\": 365,\n        \"num_unique_values\": 311,\n        \"samples\": [\n          222,\n          187,\n          67\n        ],\n        \"semantic_type\": \"\",\n        \"description\": \"\"\n      }\n    },\n    {\n      \"column\": \"placed\",\n      \"properties\": {\n        \"dtype\": \"number\",\n        \"std\": 0,\n        \"min\": 0,\n        \"max\": 1,\n        \"num_unique_values\": 2,\n        \"samples\": [\n          0,\n          1\n        ],\n        \"semantic_type\": \"\",\n        \"description\": \"\"\n      }\n    },\n    {\n      \"column\": \"employment_status\",\n      \"properties\": {\n        \"dtype\": \"category\",\n        \"num_unique_values\": 5,\n        \"samples\": [\n          \"Employed Part-Time\",\n          \"Contractor\"\n        ],\n        \"semantic_type\": \"\",\n        \"description\": \"\"\n      }\n    },\n    {\n      \"column\": \"education\",\n      \"properties\": {\n        \"dtype\": \"category\",\n        \"num_unique_values\": 5,\n        \"samples\": [\n          \"Master\",\n          \"High School\"\n        ],\n        \"semantic_type\": \"\",\n        \"description\": \"\"\n      }\n    },\n    {\n      \"column\": \"job_search\",\n      \"properties\": {\n        \"dtype\": \"category\",\n        \"num_unique_values\": 5,\n        \"samples\": [\n          \"0-1 month\",\n          \"Over a year\"\n        ],\n        \"semantic_type\": \"\",\n        \"description\": \"\"\n      }\n    },\n    {\n      \"column\": \"challenge\",\n      \"properties\": {\n        \"dtype\": \"category\",\n        \"num_unique_values\": 10,\n        \"samples\": [\n          \"Technical skills\",\n          \"Getting past final round interviews\"\n        ],\n        \"semantic_type\": \"\",\n        \"description\": \"\"\n      }\n    },\n    {\n      \"column\": \"experience\",\n      \"properties\": {\n        \"dtype\": \"category\",\n        \"num_unique_values\": 4,\n        \"samples\": [\n          \"5+ years\",\n          \"Less than one year\"\n        ],\n        \"semantic_type\": \"\",\n        \"description\": \"\"\n      }\n    },\n    {\n      \"column\": \"visa\",\n      \"properties\": {\n        \"dtype\": \"category\",\n        \"num_unique_values\": 8,\n        \"samples\": [\n          \"Citizen\",\n          \"H1B\"\n        ],\n        \"semantic_type\": \"\",\n        \"description\": \"\"\n      }\n    },\n    {\n      \"column\": \"interviews\",\n      \"properties\": {\n        \"dtype\": \"number\",\n        \"std\": 2,\n        \"min\": 0,\n        \"max\": 20,\n        \"num_unique_values\": 18,\n        \"samples\": [\n          10,\n          4\n        ],\n        \"semantic_type\": \"\",\n        \"description\": \"\"\n      }\n    },\n    {\n      \"column\": \"applications\",\n      \"properties\": {\n        \"dtype\": \"number\",\n        \"std\": 41,\n        \"min\": 0,\n        \"max\": 400,\n        \"num_unique_values\": 35,\n        \"samples\": [\n          190,\n          200\n        ],\n        \"semantic_type\": \"\",\n        \"description\": \"\"\n      }\n    }\n  ]\n}"
            }
          },
          "metadata": {},
          "execution_count": 143
        }
      ]
    },
    {
      "cell_type": "code",
      "source": [
        "pickle.dump(lr,open('placement_days_estimator.pkl','wb'))"
      ],
      "metadata": {
        "id": "706Nfr_g_3Nf"
      },
      "execution_count": null,
      "outputs": []
    },
    {
      "cell_type": "markdown",
      "source": [
        "## Resampling the data to fix the imbalancement in placed target column ##"
      ],
      "metadata": {
        "id": "gJSmeBc9Bqu5"
      }
    },
    {
      "cell_type": "code",
      "source": [
        "y_p.value_counts()"
      ],
      "metadata": {
        "colab": {
          "base_uri": "https://localhost:8080/"
        },
        "id": "AVVHpcEHhAyM",
        "outputId": "cd07337f-2039-42de-b095-1dd3537b4f64"
      },
      "execution_count": 37,
      "outputs": [
        {
          "output_type": "execute_result",
          "data": {
            "text/plain": [
              "1    920\n",
              "0     23\n",
              "Name: placed, dtype: int64"
            ]
          },
          "metadata": {},
          "execution_count": 37
        }
      ]
    },
    {
      "cell_type": "code",
      "source": [
        "comb_sampler = SMOTEENN(random_state=42)\n",
        "x_sampler,y_p_sampler = comb_sampler.fit_resample(x,y_p)\n"
      ],
      "metadata": {
        "id": "QSOwjm7OhX5f"
      },
      "execution_count": 39,
      "outputs": []
    },
    {
      "cell_type": "code",
      "source": [
        "y_p_sampler.value_counts()"
      ],
      "metadata": {
        "colab": {
          "base_uri": "https://localhost:8080/"
        },
        "id": "NDQQ2HDZjvki",
        "outputId": "5b8d72c0-8060-4b21-ffe6-efc3beb106c7"
      },
      "execution_count": 42,
      "outputs": [
        {
          "output_type": "execute_result",
          "data": {
            "text/plain": [
              "0    844\n",
              "1    804\n",
              "Name: placed, dtype: int64"
            ]
          },
          "metadata": {},
          "execution_count": 42
        }
      ]
    },
    {
      "cell_type": "markdown",
      "source": [
        "## Using Logistic Regression to predict placement ##"
      ],
      "metadata": {
        "id": "btugdOjZimns"
      }
    },
    {
      "cell_type": "code",
      "source": [
        "x_p_train,x_p_test,y_p_train,y_p_test = train_test_split(x_sampler,y_p_sampler,test_size=0.5,random_state=101)\n"
      ],
      "metadata": {
        "id": "nwR8rkunBs_p"
      },
      "execution_count": 43,
      "outputs": []
    },
    {
      "cell_type": "code",
      "source": [
        "log_reg_pre = LogisticRegression()\n",
        "parameters = {'C':[0.01,0.1,1],'penalty':['l2'],'solver':['lbfgs']}\n",
        "log_reg_cv = GridSearchCV(log_reg_pre,parameters)\n",
        "log_reg_cv.fit(x_p_train,y_p_train)\n",
        "print('tuned hyperparameters:(best parammeters)',log_reg_cv.best_params_)\n",
        "print('GridSearch accuracy:',log_reg_cv.best_score_)\n"
      ],
      "metadata": {
        "colab": {
          "base_uri": "https://localhost:8080/"
        },
        "id": "Mm6Rpik2yb7h",
        "outputId": "8a6a13aa-8cab-4350-ed2e-1821b296b389"
      },
      "execution_count": 44,
      "outputs": [
        {
          "output_type": "stream",
          "name": "stdout",
          "text": [
            "tuned hyperparameters:(best parammeters) {'C': 0.01, 'penalty': 'l2', 'solver': 'lbfgs'}\n",
            "GridSearch accuracy: 0.6990022172949002\n"
          ]
        }
      ]
    },
    {
      "cell_type": "code",
      "source": [
        "log_reg = LogisticRegression(C=0.01,penalty='l2',solver='lbfgs')"
      ],
      "metadata": {
        "id": "D4PpN7hNIbLu"
      },
      "execution_count": 45,
      "outputs": []
    },
    {
      "cell_type": "markdown",
      "source": [],
      "metadata": {
        "id": "jdu3G_SlIz-g"
      }
    },
    {
      "cell_type": "code",
      "source": [
        "log_reg.fit(x_p_train,y_p_train)"
      ],
      "metadata": {
        "colab": {
          "base_uri": "https://localhost:8080/",
          "height": 75
        },
        "id": "sxxOOQocJxze",
        "outputId": "48a18ae5-c17d-45b9-f8d5-215d9516a7df"
      },
      "execution_count": 46,
      "outputs": [
        {
          "output_type": "execute_result",
          "data": {
            "text/plain": [
              "LogisticRegression(C=0.01)"
            ],
            "text/html": [
              "<style>#sk-container-id-2 {color: black;background-color: white;}#sk-container-id-2 pre{padding: 0;}#sk-container-id-2 div.sk-toggleable {background-color: white;}#sk-container-id-2 label.sk-toggleable__label {cursor: pointer;display: block;width: 100%;margin-bottom: 0;padding: 0.3em;box-sizing: border-box;text-align: center;}#sk-container-id-2 label.sk-toggleable__label-arrow:before {content: \"▸\";float: left;margin-right: 0.25em;color: #696969;}#sk-container-id-2 label.sk-toggleable__label-arrow:hover:before {color: black;}#sk-container-id-2 div.sk-estimator:hover label.sk-toggleable__label-arrow:before {color: black;}#sk-container-id-2 div.sk-toggleable__content {max-height: 0;max-width: 0;overflow: hidden;text-align: left;background-color: #f0f8ff;}#sk-container-id-2 div.sk-toggleable__content pre {margin: 0.2em;color: black;border-radius: 0.25em;background-color: #f0f8ff;}#sk-container-id-2 input.sk-toggleable__control:checked~div.sk-toggleable__content {max-height: 200px;max-width: 100%;overflow: auto;}#sk-container-id-2 input.sk-toggleable__control:checked~label.sk-toggleable__label-arrow:before {content: \"▾\";}#sk-container-id-2 div.sk-estimator input.sk-toggleable__control:checked~label.sk-toggleable__label {background-color: #d4ebff;}#sk-container-id-2 div.sk-label input.sk-toggleable__control:checked~label.sk-toggleable__label {background-color: #d4ebff;}#sk-container-id-2 input.sk-hidden--visually {border: 0;clip: rect(1px 1px 1px 1px);clip: rect(1px, 1px, 1px, 1px);height: 1px;margin: -1px;overflow: hidden;padding: 0;position: absolute;width: 1px;}#sk-container-id-2 div.sk-estimator {font-family: monospace;background-color: #f0f8ff;border: 1px dotted black;border-radius: 0.25em;box-sizing: border-box;margin-bottom: 0.5em;}#sk-container-id-2 div.sk-estimator:hover {background-color: #d4ebff;}#sk-container-id-2 div.sk-parallel-item::after {content: \"\";width: 100%;border-bottom: 1px solid gray;flex-grow: 1;}#sk-container-id-2 div.sk-label:hover label.sk-toggleable__label {background-color: #d4ebff;}#sk-container-id-2 div.sk-serial::before {content: \"\";position: absolute;border-left: 1px solid gray;box-sizing: border-box;top: 0;bottom: 0;left: 50%;z-index: 0;}#sk-container-id-2 div.sk-serial {display: flex;flex-direction: column;align-items: center;background-color: white;padding-right: 0.2em;padding-left: 0.2em;position: relative;}#sk-container-id-2 div.sk-item {position: relative;z-index: 1;}#sk-container-id-2 div.sk-parallel {display: flex;align-items: stretch;justify-content: center;background-color: white;position: relative;}#sk-container-id-2 div.sk-item::before, #sk-container-id-2 div.sk-parallel-item::before {content: \"\";position: absolute;border-left: 1px solid gray;box-sizing: border-box;top: 0;bottom: 0;left: 50%;z-index: -1;}#sk-container-id-2 div.sk-parallel-item {display: flex;flex-direction: column;z-index: 1;position: relative;background-color: white;}#sk-container-id-2 div.sk-parallel-item:first-child::after {align-self: flex-end;width: 50%;}#sk-container-id-2 div.sk-parallel-item:last-child::after {align-self: flex-start;width: 50%;}#sk-container-id-2 div.sk-parallel-item:only-child::after {width: 0;}#sk-container-id-2 div.sk-dashed-wrapped {border: 1px dashed gray;margin: 0 0.4em 0.5em 0.4em;box-sizing: border-box;padding-bottom: 0.4em;background-color: white;}#sk-container-id-2 div.sk-label label {font-family: monospace;font-weight: bold;display: inline-block;line-height: 1.2em;}#sk-container-id-2 div.sk-label-container {text-align: center;}#sk-container-id-2 div.sk-container {/* jupyter's `normalize.less` sets `[hidden] { display: none; }` but bootstrap.min.css set `[hidden] { display: none !important; }` so we also need the `!important` here to be able to override the default hidden behavior on the sphinx rendered scikit-learn.org. See: https://github.com/scikit-learn/scikit-learn/issues/21755 */display: inline-block !important;position: relative;}#sk-container-id-2 div.sk-text-repr-fallback {display: none;}</style><div id=\"sk-container-id-2\" class=\"sk-top-container\"><div class=\"sk-text-repr-fallback\"><pre>LogisticRegression(C=0.01)</pre><b>In a Jupyter environment, please rerun this cell to show the HTML representation or trust the notebook. <br />On GitHub, the HTML representation is unable to render, please try loading this page with nbviewer.org.</b></div><div class=\"sk-container\" hidden><div class=\"sk-item\"><div class=\"sk-estimator sk-toggleable\"><input class=\"sk-toggleable__control sk-hidden--visually\" id=\"sk-estimator-id-2\" type=\"checkbox\" checked><label for=\"sk-estimator-id-2\" class=\"sk-toggleable__label sk-toggleable__label-arrow\">LogisticRegression</label><div class=\"sk-toggleable__content\"><pre>LogisticRegression(C=0.01)</pre></div></div></div></div></div>"
            ]
          },
          "metadata": {},
          "execution_count": 46
        }
      ]
    },
    {
      "cell_type": "code",
      "source": [
        "prediction_placed = log_reg.predict(x_p_test)"
      ],
      "metadata": {
        "id": "-atGxoj1J7Js"
      },
      "execution_count": 47,
      "outputs": []
    },
    {
      "cell_type": "code",
      "source": [
        "confusion_matrix(y_p_test,prediction_placed)"
      ],
      "metadata": {
        "colab": {
          "base_uri": "https://localhost:8080/"
        },
        "id": "gr-3udyOMcy-",
        "outputId": "4a39a7e3-2dc9-4e08-abf4-32798a1ae8a6"
      },
      "execution_count": 48,
      "outputs": [
        {
          "output_type": "execute_result",
          "data": {
            "text/plain": [
              "array([[343,  78],\n",
              "       [177, 226]])"
            ]
          },
          "metadata": {},
          "execution_count": 48
        }
      ]
    },
    {
      "cell_type": "markdown",
      "source": [
        "## Showing the confusion matrix as heatmap plot ##"
      ],
      "metadata": {
        "id": "ZZ6U0_DVGZML"
      }
    },
    {
      "cell_type": "code",
      "source": [
        "def plot_confusion_matrix(y,y_prediction):\n",
        "  cm = confusion_matrix(y,y_prediction)\n",
        "  ax = plt.subplot()\n",
        "  sns.heatmap(cm,annot=True,fmt='.0f',ax=ax)\n",
        "  ax.set_xlabel(\"Predicted labels\")\n",
        "  ax.set_ylabel(\"True Labels\")\n",
        "  ax.set_title(\"Confusion Matrix\")\n",
        "  ax.xaxis.set_ticklabels([\"didn't land\",'landed'])\n",
        "  ax.yaxis.set_ticklabels([\"didn't land\",'landed'])\n"
      ],
      "metadata": {
        "id": "30F53eb7JkQ2"
      },
      "execution_count": 49,
      "outputs": []
    },
    {
      "cell_type": "code",
      "source": [
        "plot_confusion_matrix(y_p_test,prediction_placed)"
      ],
      "metadata": {
        "colab": {
          "base_uri": "https://localhost:8080/",
          "height": 472
        },
        "id": "qwDLMKiNLftc",
        "outputId": "e88f10a8-9105-47cb-cb85-f04b7efa9958"
      },
      "execution_count": 50,
      "outputs": [
        {
          "output_type": "display_data",
          "data": {
            "text/plain": [
              "<Figure size 640x480 with 2 Axes>"
            ],
            "image/png": "[encoded data removed]"
          },
          "metadata": {}
        }
      ]
    },
    {
      "cell_type": "code",
      "source": [
        "print (classification_report(y_p_test,prediction_placed))"
      ],
      "metadata": {
        "colab": {
          "base_uri": "https://localhost:8080/"
        },
        "id": "thGKzmt4Ndwo",
        "outputId": "2fdd7d94-34e7-4ce6-e2bd-534318226d65"
      },
      "execution_count": 51,
      "outputs": [
        {
          "output_type": "stream",
          "name": "stdout",
          "text": [
            "              precision    recall  f1-score   support\n",
            "\n",
            "           0       0.66      0.81      0.73       421\n",
            "           1       0.74      0.56      0.64       403\n",
            "\n",
            "    accuracy                           0.69       824\n",
            "   macro avg       0.70      0.69      0.68       824\n",
            "weighted avg       0.70      0.69      0.69       824\n",
            "\n"
          ]
        }
      ]
    },
    {
      "cell_type": "code",
      "source": [
        "print(accuracy_score(y_p_test,prediction_placed))"
      ],
      "metadata": {
        "colab": {
          "base_uri": "https://localhost:8080/"
        },
        "id": "YTkaM11NNmIa",
        "outputId": "bb95040a-d92f-4fdb-cfbc-a8be584d64e6"
      },
      "execution_count": 52,
      "outputs": [
        {
          "output_type": "stream",
          "name": "stdout",
          "text": [
            "0.6905339805825242\n"
          ]
        }
      ]
    },
    {
      "cell_type": "code",
      "source": [
        "acc = []\n",
        "methods = []"
      ],
      "metadata": {
        "id": "tyqov6tPdH6A"
      },
      "execution_count": 53,
      "outputs": []
    },
    {
      "cell_type": "code",
      "source": [
        "acc.append(accuracy_score(y_p_test,prediction_placed))\n",
        "methods.append(\"Logistic Regression\")"
      ],
      "metadata": {
        "id": "CEneHcwzdaLj"
      },
      "execution_count": 54,
      "outputs": []
    },
    {
      "cell_type": "markdown",
      "source": [
        "## Using KNN Model ##"
      ],
      "metadata": {
        "id": "XjsImGbSHw91"
      }
    },
    {
      "cell_type": "code",
      "source": [
        "knn_pre = KNeighborsClassifier()"
      ],
      "metadata": {
        "id": "bXq8zS1QN6ij"
      },
      "execution_count": 55,
      "outputs": []
    },
    {
      "cell_type": "markdown",
      "source": [
        "## Finding the best K through using GridSearch ##"
      ],
      "metadata": {
        "id": "aU_I_5Oki4pH"
      }
    },
    {
      "cell_type": "code",
      "source": [
        "parameters = {'n_neighbors':[1,2,3,4,5,6,7,8,9,10]}\n",
        "knn_cv = GridSearchCV(knn_pre,parameters)\n",
        "knn_cv.fit(x_p_train,y_p_train)\n",
        "print('tuned hyperparameter: (best parameters)',knn_cv.best_params_)"
      ],
      "metadata": {
        "colab": {
          "base_uri": "https://localhost:8080/"
        },
        "id": "uKEkCErxi_ZO",
        "outputId": "c199ccc9-2651-4325-e87e-3030ee4162f4"
      },
      "execution_count": 56,
      "outputs": [
        {
          "output_type": "stream",
          "name": "stdout",
          "text": [
            "tuned hyperparameter: (best parameters) {'n_neighbors': 1}\n"
          ]
        }
      ]
    },
    {
      "cell_type": "code",
      "source": [
        "knn = KNeighborsClassifier(n_neighbors=1)\n",
        "knn.fit(x_p_train,y_p_train)"
      ],
      "metadata": {
        "colab": {
          "base_uri": "https://localhost:8080/",
          "height": 75
        },
        "id": "RisYm6dAHwRX",
        "outputId": "6742166d-9fe8-4740-b4f1-3eda8f8f6702"
      },
      "execution_count": 57,
      "outputs": [
        {
          "output_type": "execute_result",
          "data": {
            "text/plain": [
              "KNeighborsClassifier(n_neighbors=1)"
            ],
            "text/html": [
              "<style>#sk-container-id-3 {color: black;background-color: white;}#sk-container-id-3 pre{padding: 0;}#sk-container-id-3 div.sk-toggleable {background-color: white;}#sk-container-id-3 label.sk-toggleable__label {cursor: pointer;display: block;width: 100%;margin-bottom: 0;padding: 0.3em;box-sizing: border-box;text-align: center;}#sk-container-id-3 label.sk-toggleable__label-arrow:before {content: \"▸\";float: left;margin-right: 0.25em;color: #696969;}#sk-container-id-3 label.sk-toggleable__label-arrow:hover:before {color: black;}#sk-container-id-3 div.sk-estimator:hover label.sk-toggleable__label-arrow:before {color: black;}#sk-container-id-3 div.sk-toggleable__content {max-height: 0;max-width: 0;overflow: hidden;text-align: left;background-color: #f0f8ff;}#sk-container-id-3 div.sk-toggleable__content pre {margin: 0.2em;color: black;border-radius: 0.25em;background-color: #f0f8ff;}#sk-container-id-3 input.sk-toggleable__control:checked~div.sk-toggleable__content {max-height: 200px;max-width: 100%;overflow: auto;}#sk-container-id-3 input.sk-toggleable__control:checked~label.sk-toggleable__label-arrow:before {content: \"▾\";}#sk-container-id-3 div.sk-estimator input.sk-toggleable__control:checked~label.sk-toggleable__label {background-color: #d4ebff;}#sk-container-id-3 div.sk-label input.sk-toggleable__control:checked~label.sk-toggleable__label {background-color: #d4ebff;}#sk-container-id-3 input.sk-hidden--visually {border: 0;clip: rect(1px 1px 1px 1px);clip: rect(1px, 1px, 1px, 1px);height: 1px;margin: -1px;overflow: hidden;padding: 0;position: absolute;width: 1px;}#sk-container-id-3 div.sk-estimator {font-family: monospace;background-color: #f0f8ff;border: 1px dotted black;border-radius: 0.25em;box-sizing: border-box;margin-bottom: 0.5em;}#sk-container-id-3 div.sk-estimator:hover {background-color: #d4ebff;}#sk-container-id-3 div.sk-parallel-item::after {content: \"\";width: 100%;border-bottom: 1px solid gray;flex-grow: 1;}#sk-container-id-3 div.sk-label:hover label.sk-toggleable__label {background-color: #d4ebff;}#sk-container-id-3 div.sk-serial::before {content: \"\";position: absolute;border-left: 1px solid gray;box-sizing: border-box;top: 0;bottom: 0;left: 50%;z-index: 0;}#sk-container-id-3 div.sk-serial {display: flex;flex-direction: column;align-items: center;background-color: white;padding-right: 0.2em;padding-left: 0.2em;position: relative;}#sk-container-id-3 div.sk-item {position: relative;z-index: 1;}#sk-container-id-3 div.sk-parallel {display: flex;align-items: stretch;justify-content: center;background-color: white;position: relative;}#sk-container-id-3 div.sk-item::before, #sk-container-id-3 div.sk-parallel-item::before {content: \"\";position: absolute;border-left: 1px solid gray;box-sizing: border-box;top: 0;bottom: 0;left: 50%;z-index: -1;}#sk-container-id-3 div.sk-parallel-item {display: flex;flex-direction: column;z-index: 1;position: relative;background-color: white;}#sk-container-id-3 div.sk-parallel-item:first-child::after {align-self: flex-end;width: 50%;}#sk-container-id-3 div.sk-parallel-item:last-child::after {align-self: flex-start;width: 50%;}#sk-container-id-3 div.sk-parallel-item:only-child::after {width: 0;}#sk-container-id-3 div.sk-dashed-wrapped {border: 1px dashed gray;margin: 0 0.4em 0.5em 0.4em;box-sizing: border-box;padding-bottom: 0.4em;background-color: white;}#sk-container-id-3 div.sk-label label {font-family: monospace;font-weight: bold;display: inline-block;line-height: 1.2em;}#sk-container-id-3 div.sk-label-container {text-align: center;}#sk-container-id-3 div.sk-container {/* jupyter's `normalize.less` sets `[hidden] { display: none; }` but bootstrap.min.css set `[hidden] { display: none !important; }` so we also need the `!important` here to be able to override the default hidden behavior on the sphinx rendered scikit-learn.org. See: https://github.com/scikit-learn/scikit-learn/issues/21755 */display: inline-block !important;position: relative;}#sk-container-id-3 div.sk-text-repr-fallback {display: none;}</style><div id=\"sk-container-id-3\" class=\"sk-top-container\"><div class=\"sk-text-repr-fallback\"><pre>KNeighborsClassifier(n_neighbors=1)</pre><b>In a Jupyter environment, please rerun this cell to show the HTML representation or trust the notebook. <br />On GitHub, the HTML representation is unable to render, please try loading this page with nbviewer.org.</b></div><div class=\"sk-container\" hidden><div class=\"sk-item\"><div class=\"sk-estimator sk-toggleable\"><input class=\"sk-toggleable__control sk-hidden--visually\" id=\"sk-estimator-id-3\" type=\"checkbox\" checked><label for=\"sk-estimator-id-3\" class=\"sk-toggleable__label sk-toggleable__label-arrow\">KNeighborsClassifier</label><div class=\"sk-toggleable__content\"><pre>KNeighborsClassifier(n_neighbors=1)</pre></div></div></div></div></div>"
            ]
          },
          "metadata": {},
          "execution_count": 57
        }
      ]
    },
    {
      "cell_type": "code",
      "source": [
        "prediction_knn = knn.predict(x_p_test)"
      ],
      "metadata": {
        "id": "Tm7izaN2H7Ob"
      },
      "execution_count": 58,
      "outputs": []
    },
    {
      "cell_type": "code",
      "source": [
        "confusion_matrix(y_p_test,prediction_knn)"
      ],
      "metadata": {
        "colab": {
          "base_uri": "https://localhost:8080/"
        },
        "id": "S-sAR5qVITR0",
        "outputId": "d678b289-0fce-4349-a71e-c60223d180c6"
      },
      "execution_count": 59,
      "outputs": [
        {
          "output_type": "execute_result",
          "data": {
            "text/plain": [
              "array([[421,   0],\n",
              "       [  5, 398]])"
            ]
          },
          "metadata": {},
          "execution_count": 59
        }
      ]
    },
    {
      "cell_type": "code",
      "source": [
        "plot_confusion_matrix(y_p_test,prediction_knn)"
      ],
      "metadata": {
        "colab": {
          "base_uri": "https://localhost:8080/",
          "height": 472
        },
        "id": "e0fx8YV4MW-t",
        "outputId": "8aca95fd-c3a6-4fa1-86f7-746f3630036a"
      },
      "execution_count": 60,
      "outputs": [
        {
          "output_type": "display_data",
          "data": {
            "text/plain": [
              "<Figure size 640x480 with 2 Axes>"
            ],
            "image/png": "[encoded data removed]"
          },
          "metadata": {}
        }
      ]
    },
    {
      "cell_type": "code",
      "source": [
        "print(classification_report(y_p_test,prediction_knn))"
      ],
      "metadata": {
        "colab": {
          "base_uri": "https://localhost:8080/"
        },
        "id": "Com9eKBOIgKk",
        "outputId": "4a77546e-9afa-4b4c-d18a-07c765f934c6"
      },
      "execution_count": 61,
      "outputs": [
        {
          "output_type": "stream",
          "name": "stdout",
          "text": [
            "              precision    recall  f1-score   support\n",
            "\n",
            "           0       0.99      1.00      0.99       421\n",
            "           1       1.00      0.99      0.99       403\n",
            "\n",
            "    accuracy                           0.99       824\n",
            "   macro avg       0.99      0.99      0.99       824\n",
            "weighted avg       0.99      0.99      0.99       824\n",
            "\n"
          ]
        }
      ]
    },
    {
      "cell_type": "code",
      "source": [
        "accuracy_score(y_p_test,prediction_knn)"
      ],
      "metadata": {
        "colab": {
          "base_uri": "https://localhost:8080/"
        },
        "id": "EGqqQFB-Ing0",
        "outputId": "5d8bec83-5ae0-47fd-d639-80b3b1eae7ae"
      },
      "execution_count": 62,
      "outputs": [
        {
          "output_type": "execute_result",
          "data": {
            "text/plain": [
              "0.9939320388349514"
            ]
          },
          "metadata": {},
          "execution_count": 62
        }
      ]
    },
    {
      "cell_type": "code",
      "source": [
        "acc.append(accuracy_score(y_p_test,prediction_knn))\n",
        "methods.append(\"KNN\")"
      ],
      "metadata": {
        "id": "Foy1O1g7dPY_"
      },
      "execution_count": 63,
      "outputs": []
    },
    {
      "cell_type": "markdown",
      "source": [
        "## Using Decision Tree Model ##"
      ],
      "metadata": {
        "id": "NpIw1hqKItcd"
      }
    },
    {
      "cell_type": "code",
      "source": [
        "tree_pre = DecisionTreeClassifier()"
      ],
      "metadata": {
        "id": "Uv91WYeSIqnr"
      },
      "execution_count": 64,
      "outputs": []
    },
    {
      "cell_type": "code",
      "source": [
        "parameters = {'min_samples_leaf':[1,2,4],'min_samples_split':[2,5]}\n",
        "tree_cv = GridSearchCV(tree_pre,parameters)\n",
        "tree_cv.fit(x_p_train,y_p_train)\n",
        "print('tuned hyperparameters: (best parameters)',tree_cv.best_params_)"
      ],
      "metadata": {
        "colab": {
          "base_uri": "https://localhost:8080/"
        },
        "id": "E87WKhQpyob9",
        "outputId": "66693ffa-a56f-497d-a6e1-615b775987a7"
      },
      "execution_count": 65,
      "outputs": [
        {
          "output_type": "stream",
          "name": "stdout",
          "text": [
            "tuned hyperparameters: (best parameters) {'min_samples_leaf': 1, 'min_samples_split': 2}\n"
          ]
        }
      ]
    },
    {
      "cell_type": "code",
      "source": [
        "tree = DecisionTreeClassifier(min_samples_leaf=1, min_samples_split=2)\n",
        "tree.fit(x_p_train,y_p_train)"
      ],
      "metadata": {
        "colab": {
          "base_uri": "https://localhost:8080/",
          "height": 75
        },
        "id": "dJy3cBMJI5uP",
        "outputId": "1326c9c9-b0fb-4b11-ed84-68b3323678a8"
      },
      "execution_count": 66,
      "outputs": [
        {
          "output_type": "execute_result",
          "data": {
            "text/plain": [
              "DecisionTreeClassifier()"
            ],
            "text/html": [
              "<style>#sk-container-id-4 {color: black;background-color: white;}#sk-container-id-4 pre{padding: 0;}#sk-container-id-4 div.sk-toggleable {background-color: white;}#sk-container-id-4 label.sk-toggleable__label {cursor: pointer;display: block;width: 100%;margin-bottom: 0;padding: 0.3em;box-sizing: border-box;text-align: center;}#sk-container-id-4 label.sk-toggleable__label-arrow:before {content: \"▸\";float: left;margin-right: 0.25em;color: #696969;}#sk-container-id-4 label.sk-toggleable__label-arrow:hover:before {color: black;}#sk-container-id-4 div.sk-estimator:hover label.sk-toggleable__label-arrow:before {color: black;}#sk-container-id-4 div.sk-toggleable__content {max-height: 0;max-width: 0;overflow: hidden;text-align: left;background-color: #f0f8ff;}#sk-container-id-4 div.sk-toggleable__content pre {margin: 0.2em;color: black;border-radius: 0.25em;background-color: #f0f8ff;}#sk-container-id-4 input.sk-toggleable__control:checked~div.sk-toggleable__content {max-height: 200px;max-width: 100%;overflow: auto;}#sk-container-id-4 input.sk-toggleable__control:checked~label.sk-toggleable__label-arrow:before {content: \"▾\";}#sk-container-id-4 div.sk-estimator input.sk-toggleable__control:checked~label.sk-toggleable__label {background-color: #d4ebff;}#sk-container-id-4 div.sk-label input.sk-toggleable__control:checked~label.sk-toggleable__label {background-color: #d4ebff;}#sk-container-id-4 input.sk-hidden--visually {border: 0;clip: rect(1px 1px 1px 1px);clip: rect(1px, 1px, 1px, 1px);height: 1px;margin: -1px;overflow: hidden;padding: 0;position: absolute;width: 1px;}#sk-container-id-4 div.sk-estimator {font-family: monospace;background-color: #f0f8ff;border: 1px dotted black;border-radius: 0.25em;box-sizing: border-box;margin-bottom: 0.5em;}#sk-container-id-4 div.sk-estimator:hover {background-color: #d4ebff;}#sk-container-id-4 div.sk-parallel-item::after {content: \"\";width: 100%;border-bottom: 1px solid gray;flex-grow: 1;}#sk-container-id-4 div.sk-label:hover label.sk-toggleable__label {background-color: #d4ebff;}#sk-container-id-4 div.sk-serial::before {content: \"\";position: absolute;border-left: 1px solid gray;box-sizing: border-box;top: 0;bottom: 0;left: 50%;z-index: 0;}#sk-container-id-4 div.sk-serial {display: flex;flex-direction: column;align-items: center;background-color: white;padding-right: 0.2em;padding-left: 0.2em;position: relative;}#sk-container-id-4 div.sk-item {position: relative;z-index: 1;}#sk-container-id-4 div.sk-parallel {display: flex;align-items: stretch;justify-content: center;background-color: white;position: relative;}#sk-container-id-4 div.sk-item::before, #sk-container-id-4 div.sk-parallel-item::before {content: \"\";position: absolute;border-left: 1px solid gray;box-sizing: border-box;top: 0;bottom: 0;left: 50%;z-index: -1;}#sk-container-id-4 div.sk-parallel-item {display: flex;flex-direction: column;z-index: 1;position: relative;background-color: white;}#sk-container-id-4 div.sk-parallel-item:first-child::after {align-self: flex-end;width: 50%;}#sk-container-id-4 div.sk-parallel-item:last-child::after {align-self: flex-start;width: 50%;}#sk-container-id-4 div.sk-parallel-item:only-child::after {width: 0;}#sk-container-id-4 div.sk-dashed-wrapped {border: 1px dashed gray;margin: 0 0.4em 0.5em 0.4em;box-sizing: border-box;padding-bottom: 0.4em;background-color: white;}#sk-container-id-4 div.sk-label label {font-family: monospace;font-weight: bold;display: inline-block;line-height: 1.2em;}#sk-container-id-4 div.sk-label-container {text-align: center;}#sk-container-id-4 div.sk-container {/* jupyter's `normalize.less` sets `[hidden] { display: none; }` but bootstrap.min.css set `[hidden] { display: none !important; }` so we also need the `!important` here to be able to override the default hidden behavior on the sphinx rendered scikit-learn.org. See: https://github.com/scikit-learn/scikit-learn/issues/21755 */display: inline-block !important;position: relative;}#sk-container-id-4 div.sk-text-repr-fallback {display: none;}</style><div id=\"sk-container-id-4\" class=\"sk-top-container\"><div class=\"sk-text-repr-fallback\"><pre>DecisionTreeClassifier()</pre><b>In a Jupyter environment, please rerun this cell to show the HTML representation or trust the notebook. <br />On GitHub, the HTML representation is unable to render, please try loading this page with nbviewer.org.</b></div><div class=\"sk-container\" hidden><div class=\"sk-item\"><div class=\"sk-estimator sk-toggleable\"><input class=\"sk-toggleable__control sk-hidden--visually\" id=\"sk-estimator-id-4\" type=\"checkbox\" checked><label for=\"sk-estimator-id-4\" class=\"sk-toggleable__label sk-toggleable__label-arrow\">DecisionTreeClassifier</label><div class=\"sk-toggleable__content\"><pre>DecisionTreeClassifier()</pre></div></div></div></div></div>"
            ]
          },
          "metadata": {},
          "execution_count": 66
        }
      ]
    },
    {
      "cell_type": "code",
      "source": [
        "prediction_tree = tree.predict(x_p_test)"
      ],
      "metadata": {
        "id": "8mahLeyUI-_f"
      },
      "execution_count": 67,
      "outputs": []
    },
    {
      "cell_type": "code",
      "source": [
        "confusion_matrix(y_p_test,prediction_tree)"
      ],
      "metadata": {
        "colab": {
          "base_uri": "https://localhost:8080/"
        },
        "id": "0SlRweyFJHN8",
        "outputId": "a6a9e5c3-2530-4526-e102-4667605e004b"
      },
      "execution_count": 68,
      "outputs": [
        {
          "output_type": "execute_result",
          "data": {
            "text/plain": [
              "array([[402,  19],\n",
              "       [ 15, 388]])"
            ]
          },
          "metadata": {},
          "execution_count": 68
        }
      ]
    },
    {
      "cell_type": "code",
      "source": [
        "plot_confusion_matrix(y_p_test,prediction_tree)"
      ],
      "metadata": {
        "colab": {
          "base_uri": "https://localhost:8080/",
          "height": 472
        },
        "id": "1vWxXcyaNC3b",
        "outputId": "e0b8f4bb-d6ff-4bc4-81b1-09d493ea4c4b"
      },
      "execution_count": 69,
      "outputs": [
        {
          "output_type": "display_data",
          "data": {
            "text/plain": [
              "<Figure size 640x480 with 2 Axes>"
            ],
            "image/png": "[encoded data removed]"
          },
          "metadata": {}
        }
      ]
    },
    {
      "cell_type": "code",
      "source": [
        "print(classification_report(y_p_test,prediction_tree))"
      ],
      "metadata": {
        "colab": {
          "base_uri": "https://localhost:8080/"
        },
        "id": "UN-OoEy0KUkz",
        "outputId": "60b93251-ab9b-4557-a221-3347d7eb46c8"
      },
      "execution_count": 70,
      "outputs": [
        {
          "output_type": "stream",
          "name": "stdout",
          "text": [
            "              precision    recall  f1-score   support\n",
            "\n",
            "           0       0.96      0.95      0.96       421\n",
            "           1       0.95      0.96      0.96       403\n",
            "\n",
            "    accuracy                           0.96       824\n",
            "   macro avg       0.96      0.96      0.96       824\n",
            "weighted avg       0.96      0.96      0.96       824\n",
            "\n"
          ]
        }
      ]
    },
    {
      "cell_type": "code",
      "source": [
        "accuracy_score(y_p_test,prediction_tree)"
      ],
      "metadata": {
        "colab": {
          "base_uri": "https://localhost:8080/"
        },
        "id": "lbK_MYFSJRzM",
        "outputId": "05923e5b-7f68-440d-cde4-b5829edc615e"
      },
      "execution_count": 71,
      "outputs": [
        {
          "output_type": "execute_result",
          "data": {
            "text/plain": [
              "0.9587378640776699"
            ]
          },
          "metadata": {},
          "execution_count": 71
        }
      ]
    },
    {
      "cell_type": "code",
      "source": [
        "acc.append(accuracy_score(y_p_test,prediction_tree))\n",
        "methods.append(\"Decision Tree\")"
      ],
      "metadata": {
        "id": "Otrjo7PoduFo"
      },
      "execution_count": 72,
      "outputs": []
    },
    {
      "cell_type": "markdown",
      "source": [
        "## Using Randm Forest Model ##"
      ],
      "metadata": {
        "id": "hqt57mAQJelh"
      }
    },
    {
      "cell_type": "code",
      "source": [
        "forest_pre = RandomForestClassifier()"
      ],
      "metadata": {
        "id": "dmu2yCFlJcqE"
      },
      "execution_count": 73,
      "outputs": []
    },
    {
      "cell_type": "code",
      "source": [
        "parameters = {'min_samples_leaf':[1,2,4],'min_samples_split':[2,5,100],'n_estimators':[10,20,30,100]}\n",
        "forest_cv = GridSearchCV(forest_pre,parameters)\n",
        "forest_cv.fit(x_p_train,y_p_train)\n",
        "print('tuned hyperparameters: (best parameters)',forest_cv.best_params_)"
      ],
      "metadata": {
        "colab": {
          "base_uri": "https://localhost:8080/"
        },
        "id": "anCvLkut3DGo",
        "outputId": "e5f08e66-e0b2-4368-cfff-afe74be1648c"
      },
      "execution_count": 74,
      "outputs": [
        {
          "output_type": "stream",
          "name": "stdout",
          "text": [
            "tuned hyperparameters: (best parameters) {'min_samples_leaf': 1, 'min_samples_split': 5, 'n_estimators': 100}\n"
          ]
        }
      ]
    },
    {
      "cell_type": "code",
      "source": [
        "forest = RandomForestClassifier(min_samples_leaf=1,min_samples_split=5,n_estimators=100)\n",
        "forest.fit(x_p_train,y_p_train)"
      ],
      "metadata": {
        "colab": {
          "base_uri": "https://localhost:8080/",
          "height": 75
        },
        "id": "d_T1hBxkJwxG",
        "outputId": "61181bf5-7adc-47b1-9b19-b0d0d7e69f6b"
      },
      "execution_count": 75,
      "outputs": [
        {
          "output_type": "execute_result",
          "data": {
            "text/plain": [
              "RandomForestClassifier(min_samples_split=5)"
            ],
            "text/html": [
              "<style>#sk-container-id-5 {color: black;background-color: white;}#sk-container-id-5 pre{padding: 0;}#sk-container-id-5 div.sk-toggleable {background-color: white;}#sk-container-id-5 label.sk-toggleable__label {cursor: pointer;display: block;width: 100%;margin-bottom: 0;padding: 0.3em;box-sizing: border-box;text-align: center;}#sk-container-id-5 label.sk-toggleable__label-arrow:before {content: \"▸\";float: left;margin-right: 0.25em;color: #696969;}#sk-container-id-5 label.sk-toggleable__label-arrow:hover:before {color: black;}#sk-container-id-5 div.sk-estimator:hover label.sk-toggleable__label-arrow:before {color: black;}#sk-container-id-5 div.sk-toggleable__content {max-height: 0;max-width: 0;overflow: hidden;text-align: left;background-color: #f0f8ff;}#sk-container-id-5 div.sk-toggleable__content pre {margin: 0.2em;color: black;border-radius: 0.25em;background-color: #f0f8ff;}#sk-container-id-5 input.sk-toggleable__control:checked~div.sk-toggleable__content {max-height: 200px;max-width: 100%;overflow: auto;}#sk-container-id-5 input.sk-toggleable__control:checked~label.sk-toggleable__label-arrow:before {content: \"▾\";}#sk-container-id-5 div.sk-estimator input.sk-toggleable__control:checked~label.sk-toggleable__label {background-color: #d4ebff;}#sk-container-id-5 div.sk-label input.sk-toggleable__control:checked~label.sk-toggleable__label {background-color: #d4ebff;}#sk-container-id-5 input.sk-hidden--visually {border: 0;clip: rect(1px 1px 1px 1px);clip: rect(1px, 1px, 1px, 1px);height: 1px;margin: -1px;overflow: hidden;padding: 0;position: absolute;width: 1px;}#sk-container-id-5 div.sk-estimator {font-family: monospace;background-color: #f0f8ff;border: 1px dotted black;border-radius: 0.25em;box-sizing: border-box;margin-bottom: 0.5em;}#sk-container-id-5 div.sk-estimator:hover {background-color: #d4ebff;}#sk-container-id-5 div.sk-parallel-item::after {content: \"\";width: 100%;border-bottom: 1px solid gray;flex-grow: 1;}#sk-container-id-5 div.sk-label:hover label.sk-toggleable__label {background-color: #d4ebff;}#sk-container-id-5 div.sk-serial::before {content: \"\";position: absolute;border-left: 1px solid gray;box-sizing: border-box;top: 0;bottom: 0;left: 50%;z-index: 0;}#sk-container-id-5 div.sk-serial {display: flex;flex-direction: column;align-items: center;background-color: white;padding-right: 0.2em;padding-left: 0.2em;position: relative;}#sk-container-id-5 div.sk-item {position: relative;z-index: 1;}#sk-container-id-5 div.sk-parallel {display: flex;align-items: stretch;justify-content: center;background-color: white;position: relative;}#sk-container-id-5 div.sk-item::before, #sk-container-id-5 div.sk-parallel-item::before {content: \"\";position: absolute;border-left: 1px solid gray;box-sizing: border-box;top: 0;bottom: 0;left: 50%;z-index: -1;}#sk-container-id-5 div.sk-parallel-item {display: flex;flex-direction: column;z-index: 1;position: relative;background-color: white;}#sk-container-id-5 div.sk-parallel-item:first-child::after {align-self: flex-end;width: 50%;}#sk-container-id-5 div.sk-parallel-item:last-child::after {align-self: flex-start;width: 50%;}#sk-container-id-5 div.sk-parallel-item:only-child::after {width: 0;}#sk-container-id-5 div.sk-dashed-wrapped {border: 1px dashed gray;margin: 0 0.4em 0.5em 0.4em;box-sizing: border-box;padding-bottom: 0.4em;background-color: white;}#sk-container-id-5 div.sk-label label {font-family: monospace;font-weight: bold;display: inline-block;line-height: 1.2em;}#sk-container-id-5 div.sk-label-container {text-align: center;}#sk-container-id-5 div.sk-container {/* jupyter's `normalize.less` sets `[hidden] { display: none; }` but bootstrap.min.css set `[hidden] { display: none !important; }` so we also need the `!important` here to be able to override the default hidden behavior on the sphinx rendered scikit-learn.org. See: https://github.com/scikit-learn/scikit-learn/issues/21755 */display: inline-block !important;position: relative;}#sk-container-id-5 div.sk-text-repr-fallback {display: none;}</style><div id=\"sk-container-id-5\" class=\"sk-top-container\"><div class=\"sk-text-repr-fallback\"><pre>RandomForestClassifier(min_samples_split=5)</pre><b>In a Jupyter environment, please rerun this cell to show the HTML representation or trust the notebook. <br />On GitHub, the HTML representation is unable to render, please try loading this page with nbviewer.org.</b></div><div class=\"sk-container\" hidden><div class=\"sk-item\"><div class=\"sk-estimator sk-toggleable\"><input class=\"sk-toggleable__control sk-hidden--visually\" id=\"sk-estimator-id-5\" type=\"checkbox\" checked><label for=\"sk-estimator-id-5\" class=\"sk-toggleable__label sk-toggleable__label-arrow\">RandomForestClassifier</label><div class=\"sk-toggleable__content\"><pre>RandomForestClassifier(min_samples_split=5)</pre></div></div></div></div></div>"
            ]
          },
          "metadata": {},
          "execution_count": 75
        }
      ]
    },
    {
      "cell_type": "code",
      "source": [
        "prediction_forest = forest.predict(x_p_test)"
      ],
      "metadata": {
        "id": "FxwviYkbJ3t0"
      },
      "execution_count": 76,
      "outputs": []
    },
    {
      "cell_type": "code",
      "source": [
        "confusion_matrix(y_p_test,prediction_forest)"
      ],
      "metadata": {
        "colab": {
          "base_uri": "https://localhost:8080/"
        },
        "id": "RfV6-yEDJ9_F",
        "outputId": "59b1109a-ed80-4312-91a5-7a3c9eb2a4f3"
      },
      "execution_count": 77,
      "outputs": [
        {
          "output_type": "execute_result",
          "data": {
            "text/plain": [
              "array([[418,   3],\n",
              "       [  3, 400]])"
            ]
          },
          "metadata": {},
          "execution_count": 77
        }
      ]
    },
    {
      "cell_type": "code",
      "source": [
        "plot_confusion_matrix(y_p_test,prediction_forest)"
      ],
      "metadata": {
        "colab": {
          "base_uri": "https://localhost:8080/",
          "height": 472
        },
        "id": "kX6XnfjuOmK_",
        "outputId": "7ac21928-0259-4dc7-a5eb-2502b925f602"
      },
      "execution_count": 78,
      "outputs": [
        {
          "output_type": "display_data",
          "data": {
            "text/plain": [
              "<Figure size 640x480 with 2 Axes>"
            ],
            "image/png": "[encoded data removed]"
          },
          "metadata": {}
        }
      ]
    },
    {
      "cell_type": "code",
      "source": [
        "print(classification_report(y_p_test,prediction_forest))"
      ],
      "metadata": {
        "colab": {
          "base_uri": "https://localhost:8080/"
        },
        "id": "0Y-a9_x_KDeC",
        "outputId": "64e3bf54-b15c-4821-fc67-2563c54ddbea"
      },
      "execution_count": 79,
      "outputs": [
        {
          "output_type": "stream",
          "name": "stdout",
          "text": [
            "              precision    recall  f1-score   support\n",
            "\n",
            "           0       0.99      0.99      0.99       421\n",
            "           1       0.99      0.99      0.99       403\n",
            "\n",
            "    accuracy                           0.99       824\n",
            "   macro avg       0.99      0.99      0.99       824\n",
            "weighted avg       0.99      0.99      0.99       824\n",
            "\n"
          ]
        }
      ]
    },
    {
      "cell_type": "code",
      "source": [
        "accuracy_score(y_p_test,prediction_forest,normalize=True)"
      ],
      "metadata": {
        "colab": {
          "base_uri": "https://localhost:8080/"
        },
        "id": "ilKyNH5iKNOT",
        "outputId": "620fc9f4-55d8-4caf-a9c1-ee0e9d8ec8a2"
      },
      "execution_count": 80,
      "outputs": [
        {
          "output_type": "execute_result",
          "data": {
            "text/plain": [
              "0.9927184466019418"
            ]
          },
          "metadata": {},
          "execution_count": 80
        }
      ]
    },
    {
      "cell_type": "code",
      "source": [
        "acc.append(accuracy_score(y_p_test,prediction_forest))\n",
        "methods.append(\"Random Forest\")"
      ],
      "metadata": {
        "id": "Xn-G8g1OKPi5"
      },
      "execution_count": 81,
      "outputs": []
    },
    {
      "cell_type": "markdown",
      "source": [
        "## Using Support Vector Machine Model- SVM ##"
      ],
      "metadata": {
        "id": "Odt3pksT2PWj"
      }
    },
    {
      "cell_type": "code",
      "source": [
        "svm_pre = SVC()"
      ],
      "metadata": {
        "id": "a35BZgwB2Vvv"
      },
      "execution_count": 82,
      "outputs": []
    },
    {
      "cell_type": "code",
      "source": [
        "parameters = {'C':[0.5,1,1.5],'kernel':['linear','rbf','sigmoid']}\n",
        "svm_cv = GridSearchCV(svm_pre,parameters)\n",
        "svm_cv.fit(x_p_train,y_p_train)\n",
        "print('tuned hyperparameters:(best parameters)',svm_cv.best_params_)"
      ],
      "metadata": {
        "colab": {
          "base_uri": "https://localhost:8080/"
        },
        "id": "hdbHS87v2Vdm",
        "outputId": "7eb3bc91-120a-4ebd-e34f-92cd407f2821"
      },
      "execution_count": 83,
      "outputs": [
        {
          "output_type": "stream",
          "name": "stdout",
          "text": [
            "tuned hyperparameters:(best parameters) {'C': 1.5, 'kernel': 'rbf'}\n"
          ]
        }
      ]
    },
    {
      "cell_type": "code",
      "source": [
        "svm = SVC(C=1.5,kernel='rbf')"
      ],
      "metadata": {
        "id": "plVHWb3h2VGy"
      },
      "execution_count": 84,
      "outputs": []
    },
    {
      "cell_type": "code",
      "source": [
        "svm.fit(x_p_train,y_p_train)"
      ],
      "metadata": {
        "colab": {
          "base_uri": "https://localhost:8080/",
          "height": 75
        },
        "id": "DiPaHTWj3bCy",
        "outputId": "507720fc-8a58-4310-f495-f3998376c1ed"
      },
      "execution_count": 85,
      "outputs": [
        {
          "output_type": "execute_result",
          "data": {
            "text/plain": [
              "SVC(C=1.5)"
            ],
            "text/html": [
              "<style>#sk-container-id-6 {color: black;background-color: white;}#sk-container-id-6 pre{padding: 0;}#sk-container-id-6 div.sk-toggleable {background-color: white;}#sk-container-id-6 label.sk-toggleable__label {cursor: pointer;display: block;width: 100%;margin-bottom: 0;padding: 0.3em;box-sizing: border-box;text-align: center;}#sk-container-id-6 label.sk-toggleable__label-arrow:before {content: \"▸\";float: left;margin-right: 0.25em;color: #696969;}#sk-container-id-6 label.sk-toggleable__label-arrow:hover:before {color: black;}#sk-container-id-6 div.sk-estimator:hover label.sk-toggleable__label-arrow:before {color: black;}#sk-container-id-6 div.sk-toggleable__content {max-height: 0;max-width: 0;overflow: hidden;text-align: left;background-color: #f0f8ff;}#sk-container-id-6 div.sk-toggleable__content pre {margin: 0.2em;color: black;border-radius: 0.25em;background-color: #f0f8ff;}#sk-container-id-6 input.sk-toggleable__control:checked~div.sk-toggleable__content {max-height: 200px;max-width: 100%;overflow: auto;}#sk-container-id-6 input.sk-toggleable__control:checked~label.sk-toggleable__label-arrow:before {content: \"▾\";}#sk-container-id-6 div.sk-estimator input.sk-toggleable__control:checked~label.sk-toggleable__label {background-color: #d4ebff;}#sk-container-id-6 div.sk-label input.sk-toggleable__control:checked~label.sk-toggleable__label {background-color: #d4ebff;}#sk-container-id-6 input.sk-hidden--visually {border: 0;clip: rect(1px 1px 1px 1px);clip: rect(1px, 1px, 1px, 1px);height: 1px;margin: -1px;overflow: hidden;padding: 0;position: absolute;width: 1px;}#sk-container-id-6 div.sk-estimator {font-family: monospace;background-color: #f0f8ff;border: 1px dotted black;border-radius: 0.25em;box-sizing: border-box;margin-bottom: 0.5em;}#sk-container-id-6 div.sk-estimator:hover {background-color: #d4ebff;}#sk-container-id-6 div.sk-parallel-item::after {content: \"\";width: 100%;border-bottom: 1px solid gray;flex-grow: 1;}#sk-container-id-6 div.sk-label:hover label.sk-toggleable__label {background-color: #d4ebff;}#sk-container-id-6 div.sk-serial::before {content: \"\";position: absolute;border-left: 1px solid gray;box-sizing: border-box;top: 0;bottom: 0;left: 50%;z-index: 0;}#sk-container-id-6 div.sk-serial {display: flex;flex-direction: column;align-items: center;background-color: white;padding-right: 0.2em;padding-left: 0.2em;position: relative;}#sk-container-id-6 div.sk-item {position: relative;z-index: 1;}#sk-container-id-6 div.sk-parallel {display: flex;align-items: stretch;justify-content: center;background-color: white;position: relative;}#sk-container-id-6 div.sk-item::before, #sk-container-id-6 div.sk-parallel-item::before {content: \"\";position: absolute;border-left: 1px solid gray;box-sizing: border-box;top: 0;bottom: 0;left: 50%;z-index: -1;}#sk-container-id-6 div.sk-parallel-item {display: flex;flex-direction: column;z-index: 1;position: relative;background-color: white;}#sk-container-id-6 div.sk-parallel-item:first-child::after {align-self: flex-end;width: 50%;}#sk-container-id-6 div.sk-parallel-item:last-child::after {align-self: flex-start;width: 50%;}#sk-container-id-6 div.sk-parallel-item:only-child::after {width: 0;}#sk-container-id-6 div.sk-dashed-wrapped {border: 1px dashed gray;margin: 0 0.4em 0.5em 0.4em;box-sizing: border-box;padding-bottom: 0.4em;background-color: white;}#sk-container-id-6 div.sk-label label {font-family: monospace;font-weight: bold;display: inline-block;line-height: 1.2em;}#sk-container-id-6 div.sk-label-container {text-align: center;}#sk-container-id-6 div.sk-container {/* jupyter's `normalize.less` sets `[hidden] { display: none; }` but bootstrap.min.css set `[hidden] { display: none !important; }` so we also need the `!important` here to be able to override the default hidden behavior on the sphinx rendered scikit-learn.org. See: https://github.com/scikit-learn/scikit-learn/issues/21755 */display: inline-block !important;position: relative;}#sk-container-id-6 div.sk-text-repr-fallback {display: none;}</style><div id=\"sk-container-id-6\" class=\"sk-top-container\"><div class=\"sk-text-repr-fallback\"><pre>SVC(C=1.5)</pre><b>In a Jupyter environment, please rerun this cell to show the HTML representation or trust the notebook. <br />On GitHub, the HTML representation is unable to render, please try loading this page with nbviewer.org.</b></div><div class=\"sk-container\" hidden><div class=\"sk-item\"><div class=\"sk-estimator sk-toggleable\"><input class=\"sk-toggleable__control sk-hidden--visually\" id=\"sk-estimator-id-6\" type=\"checkbox\" checked><label for=\"sk-estimator-id-6\" class=\"sk-toggleable__label sk-toggleable__label-arrow\">SVC</label><div class=\"sk-toggleable__content\"><pre>SVC(C=1.5)</pre></div></div></div></div></div>"
            ]
          },
          "metadata": {},
          "execution_count": 85
        }
      ]
    },
    {
      "cell_type": "code",
      "source": [
        "prediction_svm = svm.predict(x_p_test)"
      ],
      "metadata": {
        "id": "q81wDuGj3iP7"
      },
      "execution_count": 86,
      "outputs": []
    },
    {
      "cell_type": "code",
      "source": [
        "confusion_matrix(y_p_test,prediction_svm)"
      ],
      "metadata": {
        "colab": {
          "base_uri": "https://localhost:8080/"
        },
        "id": "Bbj_qN0q3s4Q",
        "outputId": "c444e5a1-b589-4415-cf37-7197f96e6549"
      },
      "execution_count": 87,
      "outputs": [
        {
          "output_type": "execute_result",
          "data": {
            "text/plain": [
              "array([[409,  12],\n",
              "       [ 77, 326]])"
            ]
          },
          "metadata": {},
          "execution_count": 87
        }
      ]
    },
    {
      "cell_type": "code",
      "source": [
        "plot_confusion_matrix(y_p_test,prediction_svm)"
      ],
      "metadata": {
        "colab": {
          "base_uri": "https://localhost:8080/",
          "height": 472
        },
        "id": "M-a0CCUFP-P5",
        "outputId": "fbbb0b98-7e09-493c-d2d2-58e687e06645"
      },
      "execution_count": 88,
      "outputs": [
        {
          "output_type": "display_data",
          "data": {
            "text/plain": [
              "<Figure size 640x480 with 2 Axes>"
            ],
            "image/png": "[encoded data removed]"
          },
          "metadata": {}
        }
      ]
    },
    {
      "cell_type": "code",
      "source": [
        "print(classification_report(y_p_test,prediction_svm))"
      ],
      "metadata": {
        "colab": {
          "base_uri": "https://localhost:8080/"
        },
        "id": "j5NCviwR3slE",
        "outputId": "83ab1c19-cc58-434f-8a22-bc152c54e4dc"
      },
      "execution_count": 89,
      "outputs": [
        {
          "output_type": "stream",
          "name": "stdout",
          "text": [
            "              precision    recall  f1-score   support\n",
            "\n",
            "           0       0.84      0.97      0.90       421\n",
            "           1       0.96      0.81      0.88       403\n",
            "\n",
            "    accuracy                           0.89       824\n",
            "   macro avg       0.90      0.89      0.89       824\n",
            "weighted avg       0.90      0.89      0.89       824\n",
            "\n"
          ]
        }
      ]
    },
    {
      "cell_type": "code",
      "source": [
        "accuracy_score(y_p_test,prediction_svm,normalize=True)"
      ],
      "metadata": {
        "colab": {
          "base_uri": "https://localhost:8080/"
        },
        "id": "hohCKzCx37ZV",
        "outputId": "37087138-2c47-4e6b-b8a3-7bde62d2448d"
      },
      "execution_count": 90,
      "outputs": [
        {
          "output_type": "execute_result",
          "data": {
            "text/plain": [
              "0.8919902912621359"
            ]
          },
          "metadata": {},
          "execution_count": 90
        }
      ]
    },
    {
      "cell_type": "code",
      "source": [
        "acc.append(accuracy_score(y_p_test,prediction_svm,normalize=True))\n",
        "methods.append('SVM')"
      ],
      "metadata": {
        "id": "iqAdRdpV4Cew"
      },
      "execution_count": 91,
      "outputs": []
    },
    {
      "cell_type": "code",
      "source": [
        "plt.bar(methods,acc,color='maroon',width=0.4,edgecolor='black')"
      ],
      "metadata": {
        "colab": {
          "base_uri": "https://localhost:8080/",
          "height": 448
        },
        "id": "Iq3dOM7Cd8zm",
        "outputId": "9fe808d4-71a7-4f90-b413-c6f7cb014b35"
      },
      "execution_count": 92,
      "outputs": [
        {
          "output_type": "execute_result",
          "data": {
            "text/plain": [
              "<BarContainer object of 5 artists>"
            ]
          },
          "metadata": {},
          "execution_count": 92
        },
        {
          "output_type": "display_data",
          "data": {
            "text/plain": [
              "<Figure size 640x480 with 1 Axes>"
            ],
            "image/png": "[encoded data removed]"
          },
          "metadata": {}
        }
      ]
    },
    {
      "cell_type": "code",
      "source": [
        "print(methods)\n",
        "print(acc)"
      ],
      "metadata": {
        "colab": {
          "base_uri": "https://localhost:8080/"
        },
        "id": "tN_VHjYjeNSp",
        "outputId": "edb79d4b-963b-42c9-b4d3-fd60c8f53c9a"
      },
      "execution_count": 93,
      "outputs": [
        {
          "output_type": "stream",
          "name": "stdout",
          "text": [
            "['Logistic Regression', 'KNN', 'Decision Tree', 'Random Forest', 'SVM']\n",
            "[0.6905339805825242, 0.9939320388349514, 0.9587378640776699, 0.9927184466019418, 0.8919902912621359]\n"
          ]
        }
      ]
    },
    {
      "cell_type": "code",
      "source": [],
      "metadata": {
        "id": "2pIRC8iveUKB"
      },
      "execution_count": null,
      "outputs": []
    }
  ]
}