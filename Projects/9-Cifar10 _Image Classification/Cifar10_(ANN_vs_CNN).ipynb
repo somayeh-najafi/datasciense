{
  "nbformat": 4,
  "nbformat_minor": 0,
  "metadata": {
    "colab": {
      "provenance": []
    },
    "kernelspec": {
      "name": "python3",
      "display_name": "Python 3"
    },
    "language_info": {
      "name": "python"
    }
  },
  "cells": [
    {
      "cell_type": "code",
      "execution_count": 1,
      "metadata": {
        "id": "4CIgtXaS2B31"
      },
      "outputs": [],
      "source": [
        "import tensorflow as tf\n",
        "import numpy as np\n",
        "from tensorflow.keras.models import Sequential\n",
        "from tensorflow.keras.layers import Conv2D,MaxPooling2D,Flatten,Dense\n",
        "import matplotlib.pyplot as plt\n",
        "from tensorflow.keras.datasets import cifar10\n",
        "from tensorflow.keras import datasets\n",
        "import ssl\n",
        "import ssl\n",
        "from tensorflow.keras import datasets, layers, models\n",
        "from tensorflow import keras\n",
        "from sklearn.metrics import confusion_matrix,classification_report\n",
        "from tensorflow.keras.optimizers import Adam, SGD\n",
        "\n",
        "\n"
      ]
    },
    {
      "cell_type": "markdown",
      "source": [
        "#Loading the CIFAR10 Dataset"
      ],
      "metadata": {
        "id": "1_7evMb_gcoY"
      }
    },
    {
      "cell_type": "code",
      "source": [
        "(x_train,y_train),(x_test,y_test)=datasets.cifar10.load_data()"
      ],
      "metadata": {
        "id": "GQCelQHy2EFT"
      },
      "execution_count": 13,
      "outputs": []
    },
    {
      "cell_type": "code",
      "source": [
        "x_train.shape"
      ],
      "metadata": {
        "colab": {
          "base_uri": "https://localhost:8080/"
        },
        "id": "FtRViqL92pzl",
        "outputId": "f719cc19-662f-47c0-e0cf-1cf477907a77"
      },
      "execution_count": 63,
      "outputs": [
        {
          "output_type": "execute_result",
          "data": {
            "text/plain": [
              "(50000, 32, 32, 3)"
            ]
          },
          "metadata": {},
          "execution_count": 63
        }
      ]
    },
    {
      "cell_type": "code",
      "source": [
        "y_train.shape"
      ],
      "metadata": {
        "colab": {
          "base_uri": "https://localhost:8080/"
        },
        "id": "aNhbN0rH3H9e",
        "outputId": "e66697bd-ef0c-4cc9-fc6c-dc622e12c27a"
      },
      "execution_count": 64,
      "outputs": [
        {
          "output_type": "execute_result",
          "data": {
            "text/plain": [
              "(50000, 1)"
            ]
          },
          "metadata": {},
          "execution_count": 64
        }
      ]
    },
    {
      "cell_type": "code",
      "source": [
        "x_test.shape"
      ],
      "metadata": {
        "colab": {
          "base_uri": "https://localhost:8080/"
        },
        "id": "y9qNeOe03QQR",
        "outputId": "050f3aed-a523-42cc-d07b-0f95d31d41a2"
      },
      "execution_count": 65,
      "outputs": [
        {
          "output_type": "execute_result",
          "data": {
            "text/plain": [
              "(10000, 32, 32, 3)"
            ]
          },
          "metadata": {},
          "execution_count": 65
        }
      ]
    },
    {
      "cell_type": "markdown",
      "source": [
        "# Flatten y_train from 2-dimension to 1-dimension"
      ],
      "metadata": {
        "id": "ekMwtyBSmngw"
      }
    },
    {
      "cell_type": "code",
      "source": [
        "y_train = y_train.reshape(-1)\n",
        "y_test=y_test.reshape(-1)"
      ],
      "metadata": {
        "id": "ve6BBRUY3YCS"
      },
      "execution_count": 14,
      "outputs": []
    },
    {
      "cell_type": "code",
      "source": [
        "classes = ['airplane','automobile','bird','cat','deer','dog','frog','horse','ship','truck']\n"
      ],
      "metadata": {
        "id": "Qq1wJEMwCTtZ"
      },
      "execution_count": 4,
      "outputs": []
    },
    {
      "cell_type": "code",
      "source": [
        "def plot_sample(x,y,index):\n",
        " plt.imshow(x[index])\n",
        " plt.xlabel(classes[y[index]])"
      ],
      "metadata": {
        "id": "w_Zgr14g3dzD"
      },
      "execution_count": 30,
      "outputs": []
    },
    {
      "cell_type": "code",
      "source": [
        "plot_sample(x_train,y_train,19)"
      ],
      "metadata": {
        "colab": {
          "base_uri": "https://localhost:8080/",
          "height": 449
        },
        "id": "FZrr-iARA9U4",
        "outputId": "d024ebc6-fd3b-42ba-bfe6-c87c91b38f16"
      },
      "execution_count": 18,
      "outputs": [
        {
          "output_type": "display_data",
          "data": {
            "text/plain": [
              "<Figure size 640x480 with 1 Axes>"
            ],
            "image/png": "[encoded data removed]"
          },
          "metadata": {}
        }
      ]
    },
    {
      "cell_type": "markdown",
      "source": [
        "#Normalizing the x data by dividing them by 255 as color code"
      ],
      "metadata": {
        "id": "DlyU5V5IqpGX"
      }
    },
    {
      "cell_type": "code",
      "source": [
        "x_train = x_train/255.0\n",
        "x_test = x_test/255.0"
      ],
      "metadata": {
        "id": "Q8quKGH0nirz"
      },
      "execution_count": 15,
      "outputs": []
    },
    {
      "cell_type": "markdown",
      "source": [
        "# First we try with Simple ANN to see the performance, and then we add those convolutional layers"
      ],
      "metadata": {
        "id": "Ja2HQKo_t-RP"
      }
    },
    {
      "cell_type": "code",
      "source": [
        "ann_model = Sequential([\n",
        "    tf.keras.layers.Flatten(input_shape=(32,32,3)),\n",
        "    layers.Dense(3000,activation='relu'),\n",
        "    layers.Dense(1000,activation='relu'),\n",
        "    layers.Dense(10,activation='sigmoid'),\n",
        "])\n",
        "ann_model.compile(optimizer='SGD',loss='sparse_categorical_crossentropy',metrics=['accuracy'])"
      ],
      "metadata": {
        "id": "bLBuKH0SrDzo"
      },
      "execution_count": 27,
      "outputs": []
    },
    {
      "cell_type": "code",
      "source": [
        "ann_model.fit(x_train,y_train,epochs=5)"
      ],
      "metadata": {
        "colab": {
          "base_uri": "https://localhost:8080/"
        },
        "id": "3SMU4VIquLO0",
        "outputId": "a2d02c28-9f4a-4fcc-d381-b23c5498152f"
      },
      "execution_count": 28,
      "outputs": [
        {
          "output_type": "stream",
          "name": "stdout",
          "text": [
            "Epoch 1/5\n",
            "1563/1563 [==============================] - 142s 90ms/step - loss: 2.3008 - accuracy: 0.1285\n",
            "Epoch 2/5\n",
            "1563/1563 [==============================] - 142s 91ms/step - loss: 2.2997 - accuracy: 0.1356\n",
            "Epoch 3/5\n",
            "1563/1563 [==============================] - 144s 92ms/step - loss: 2.2989 - accuracy: 0.1458\n",
            "Epoch 4/5\n",
            "1563/1563 [==============================] - 143s 91ms/step - loss: 2.2979 - accuracy: 0.1503\n",
            "Epoch 5/5\n",
            "1563/1563 [==============================] - 151s 97ms/step - loss: 2.2967 - accuracy: 0.1522\n"
          ]
        },
        {
          "output_type": "execute_result",
          "data": {
            "text/plain": [
              "<keras.src.callbacks.History at 0x7ff25133c7c0>"
            ]
          },
          "metadata": {},
          "execution_count": 28
        }
      ]
    },
    {
      "cell_type": "markdown",
      "source": [],
      "metadata": {
        "id": "WLVyfAK_7iwa"
      }
    },
    {
      "cell_type": "markdown",
      "source": [
        "# Evaluate with test dataset"
      ],
      "metadata": {
        "id": "UHpwqy7N964P"
      }
    },
    {
      "cell_type": "code",
      "source": [
        "ann_model.evaluate(x_test,y_test)"
      ],
      "metadata": {
        "colab": {
          "base_uri": "https://localhost:8080/"
        },
        "id": "6ic_23k93urx",
        "outputId": "385d5ce9-52a6-4d07-97b1-730823d8a78d"
      },
      "execution_count": 29,
      "outputs": [
        {
          "output_type": "stream",
          "name": "stdout",
          "text": [
            "313/313 [==============================] - 9s 27ms/step - loss: 4.3859 - accuracy: 0.1295\n"
          ]
        },
        {
          "output_type": "execute_result",
          "data": {
            "text/plain": [
              "[4.385888576507568, 0.12950000166893005]"
            ]
          },
          "metadata": {},
          "execution_count": 29
        }
      ]
    },
    {
      "cell_type": "markdown",
      "source": [
        "#Prediction"
      ],
      "metadata": {
        "id": "WdxTitus9-Mr"
      }
    },
    {
      "cell_type": "code",
      "source": [
        "prediction = ann_model.predict(x_test)"
      ],
      "metadata": {
        "colab": {
          "base_uri": "https://localhost:8080/"
        },
        "id": "R6eOJsh17-Dc",
        "outputId": "362bb03b-444e-4883-9817-a4ddb83a190f"
      },
      "execution_count": 31,
      "outputs": [
        {
          "output_type": "stream",
          "name": "stdout",
          "text": [
            "313/313 [==============================] - 11s 33ms/step\n"
          ]
        }
      ]
    },
    {
      "cell_type": "code",
      "source": [
        "prediction.shape"
      ],
      "metadata": {
        "colab": {
          "base_uri": "https://localhost:8080/"
        },
        "id": "KPqmsfmR8fC4",
        "outputId": "6aa7f25f-c1e1-47f0-acb3-c8bcdea3ffbd"
      },
      "execution_count": 32,
      "outputs": [
        {
          "output_type": "execute_result",
          "data": {
            "text/plain": [
              "(10000, 10)"
            ]
          },
          "metadata": {},
          "execution_count": 32
        }
      ]
    },
    {
      "cell_type": "markdown",
      "source": [
        "#Here we get the index of max probability in prediction for each row"
      ],
      "metadata": {
        "id": "QA8T6Qck-VuZ"
      }
    },
    {
      "cell_type": "code",
      "source": [
        "prediction_classes = [np.argmax(element) for element in prediction]\n",
        ""
      ],
      "metadata": {
        "id": "ACDE7D848l8J"
      },
      "execution_count": 37,
      "outputs": []
    },
    {
      "cell_type": "code",
      "source": [
        "print('classification Reports:\\n',classification_report(y_test,prediction_classes))"
      ],
      "metadata": {
        "colab": {
          "base_uri": "https://localhost:8080/"
        },
        "id": "LTg00F2d-TG3",
        "outputId": "6717b10c-1abd-4ba3-9fc1-0170e116311c"
      },
      "execution_count": 50,
      "outputs": [
        {
          "output_type": "stream",
          "name": "stdout",
          "text": [
            "classification Reports:\n",
            "               precision    recall  f1-score   support\n",
            "\n",
            "           0       0.11      0.66      0.18      1000\n",
            "           1       0.00      0.00      0.00      1000\n",
            "           2       0.00      0.00      0.00      1000\n",
            "           3       0.00      0.00      0.00      1000\n",
            "           4       0.00      0.00      0.00      1000\n",
            "           5       0.00      0.00      0.00      1000\n",
            "           6       0.00      0.00      0.00      1000\n",
            "           7       0.00      0.00      0.00      1000\n",
            "           8       0.17      0.64      0.27      1000\n",
            "           9       0.00      0.00      0.00      1000\n",
            "\n",
            "    accuracy                           0.13     10000\n",
            "   macro avg       0.03      0.13      0.04     10000\n",
            "weighted avg       0.03      0.13      0.04     10000\n",
            "\n"
          ]
        },
        {
          "output_type": "stream",
          "name": "stderr",
          "text": [
            "/usr/local/lib/python3.10/dist-packages/sklearn/metrics/_classification.py:1344: UndefinedMetricWarning: Precision and F-score are ill-defined and being set to 0.0 in labels with no predicted samples. Use `zero_division` parameter to control this behavior.\n",
            "  _warn_prf(average, modifier, msg_start, len(result))\n",
            "/usr/local/lib/python3.10/dist-packages/sklearn/metrics/_classification.py:1344: UndefinedMetricWarning: Precision and F-score are ill-defined and being set to 0.0 in labels with no predicted samples. Use `zero_division` parameter to control this behavior.\n",
            "  _warn_prf(average, modifier, msg_start, len(result))\n",
            "/usr/local/lib/python3.10/dist-packages/sklearn/metrics/_classification.py:1344: UndefinedMetricWarning: Precision and F-score are ill-defined and being set to 0.0 in labels with no predicted samples. Use `zero_division` parameter to control this behavior.\n",
            "  _warn_prf(average, modifier, msg_start, len(result))\n"
          ]
        }
      ]
    },
    {
      "cell_type": "markdown",
      "source": [
        "# We see that ANN doesn't work perfectly and it generates the prediction with less accuracy, now we start CNN"
      ],
      "metadata": {
        "id": "jEqA3_2lADFF"
      }
    },
    {
      "cell_type": "code",
      "source": [
        "cnn_model = models.Sequential([\n",
        "#CNN\n",
        "    layers.Conv2D(filters=64,kernel_size=(3,3),activation='relu',input_shape=(32,32,3)),\n",
        "    layers.MaxPooling2D((2,2)),\n",
        "    layers.Conv2D(filters=64,kernel_size=(3,3),activation='relu'),\n",
        "    layers.MaxPooling2D((2,2)),\n",
        "\n",
        "#Dense\n",
        "    layers.Flatten(),\n",
        "    layers.Dense(128,activation='relu'),\n",
        "    layers.Dense(10,activation='softmax'), # Difference between Softmax and Sigmoid, Softmax normalize the probbabilities. which means the sum of the probabilities always is 1.\n",
        "    ])\n",
        "\n",
        "cnn_model.compile(optimizer=Adam(learning_rate=0.003),loss='sparse_categorical_crossentropy',metrics=['accuracy']) #Optimizer \"adam\" is the most popular one.\n",
        "#Sparse_... shows the class value for the output instead of showing 0,1."
      ],
      "metadata": {
        "id": "0_sN2O3B_Llb"
      },
      "execution_count": 16,
      "outputs": []
    },
    {
      "cell_type": "code",
      "source": [
        "cnn_model.fit(x_train,y_train,epochs=10,batch_size=32)"
      ],
      "metadata": {
        "colab": {
          "base_uri": "https://localhost:8080/"
        },
        "id": "qGiE6fHwcgTW",
        "outputId": "252676b0-245f-4ea5-9973-93d451976573"
      },
      "execution_count": 17,
      "outputs": [
        {
          "output_type": "stream",
          "name": "stdout",
          "text": [
            "Epoch 1/10\n",
            "1563/1563 [==============================] - 101s 64ms/step - loss: 1.5012 - accuracy: 0.4575\n",
            "Epoch 2/10\n",
            "1563/1563 [==============================] - 102s 65ms/step - loss: 1.1738 - accuracy: 0.5859\n",
            "Epoch 3/10\n",
            "1563/1563 [==============================] - 101s 65ms/step - loss: 1.0577 - accuracy: 0.6246\n",
            "Epoch 4/10\n",
            "1563/1563 [==============================] - 99s 63ms/step - loss: 0.9869 - accuracy: 0.6521\n",
            "Epoch 5/10\n",
            "1563/1563 [==============================] - 101s 65ms/step - loss: 0.9402 - accuracy: 0.6674\n",
            "Epoch 6/10\n",
            "1563/1563 [==============================] - 99s 63ms/step - loss: 0.8913 - accuracy: 0.6826\n",
            "Epoch 7/10\n",
            "1563/1563 [==============================] - 105s 68ms/step - loss: 0.8530 - accuracy: 0.6993\n",
            "Epoch 8/10\n",
            "1563/1563 [==============================] - 103s 66ms/step - loss: 0.8152 - accuracy: 0.7120\n",
            "Epoch 9/10\n",
            "1563/1563 [==============================] - 100s 64ms/step - loss: 0.7895 - accuracy: 0.7206\n",
            "Epoch 10/10\n",
            "1563/1563 [==============================] - 104s 66ms/step - loss: 0.7634 - accuracy: 0.7288\n"
          ]
        },
        {
          "output_type": "execute_result",
          "data": {
            "text/plain": [
              "<keras.src.callbacks.History at 0x7901e3f0e620>"
            ]
          },
          "metadata": {},
          "execution_count": 17
        }
      ]
    },
    {
      "cell_type": "code",
      "source": [
        "cnn_model.evaluate(x_test,y_test)"
      ],
      "metadata": {
        "colab": {
          "base_uri": "https://localhost:8080/"
        },
        "id": "19YY7x1tcYqV",
        "outputId": "0932a735-7ffa-4c36-ae34-b5f1f58858c5"
      },
      "execution_count": 18,
      "outputs": [
        {
          "output_type": "stream",
          "name": "stdout",
          "text": [
            "313/313 [==============================] - 6s 19ms/step - loss: 1.1353 - accuracy: 0.6336\n"
          ]
        },
        {
          "output_type": "execute_result",
          "data": {
            "text/plain": [
              "[1.1353038549423218, 0.6335999965667725]"
            ]
          },
          "metadata": {},
          "execution_count": 18
        }
      ]
    },
    {
      "cell_type": "code",
      "source": [
        "y_pred = cnn_model.predict(x_test)"
      ],
      "metadata": {
        "colab": {
          "base_uri": "https://localhost:8080/"
        },
        "id": "GGdfHHZ2vnCs",
        "outputId": "0740bb39-2d1e-4504-9004-d5e04f5280d2"
      },
      "execution_count": 19,
      "outputs": [
        {
          "output_type": "stream",
          "name": "stdout",
          "text": [
            "313/313 [==============================] - 12s 37ms/step\n"
          ]
        }
      ]
    },
    {
      "cell_type": "code",
      "source": [
        "y_pred[:10]"
      ],
      "metadata": {
        "colab": {
          "base_uri": "https://localhost:8080/"
        },
        "id": "GzJ-9ydbQ4rQ",
        "outputId": "20e8898c-32c8-48c4-ebaa-260ca2b6cfd7"
      },
      "execution_count": 21,
      "outputs": [
        {
          "output_type": "execute_result",
          "data": {
            "text/plain": [
              "array([[2.96680751e-04, 7.05985911e-03, 2.42724046e-02, 5.53495646e-01,\n",
              "        7.02472450e-03, 1.10947296e-01, 2.80588090e-01, 3.64141015e-04,\n",
              "        5.29937306e-03, 1.06518148e-02],\n",
              "       [1.08750595e-03, 3.16778645e-02, 2.51875917e-07, 4.47549695e-07,\n",
              "        6.93680668e-10, 7.94181054e-10, 6.12449380e-09, 2.58944699e-10,\n",
              "        9.66953695e-01, 2.80254491e-04],\n",
              "       [3.92747283e-01, 5.43405414e-02, 2.99427891e-03, 2.67299870e-03,\n",
              "        2.11883383e-03, 1.27473904e-03, 2.10844888e-03, 2.76143709e-03,\n",
              "        3.79218161e-01, 1.59763157e-01],\n",
              "       [7.72519767e-01, 4.13056223e-05, 7.79740803e-04, 2.28581150e-04,\n",
              "        5.82023931e-05, 2.52323480e-06, 1.33915603e-06, 1.91756408e-05,\n",
              "        2.24049494e-01, 2.29981542e-03],\n",
              "       [1.95645698e-05, 1.15703742e-05, 8.07527918e-03, 8.35824460e-02,\n",
              "        2.08411604e-01, 3.40900756e-03, 6.96486533e-01, 2.49681489e-06,\n",
              "        1.01987280e-06, 4.77008371e-07],\n",
              "       [3.85012697e-07, 2.65190863e-07, 8.49618984e-04, 6.94039220e-04,\n",
              "        1.54462905e-05, 3.20446743e-05, 9.98408139e-01, 2.70217733e-08,\n",
              "        1.48079323e-07, 9.57624557e-09],\n",
              "       [4.84033342e-04, 1.48381248e-01, 5.25430180e-02, 2.90579349e-01,\n",
              "        8.07952256e-06, 4.51503396e-01, 3.45060456e-04, 3.42623726e-03,\n",
              "        1.53784189e-04, 5.25756888e-02],\n",
              "       [2.12313844e-05, 5.48800699e-07, 3.77007760e-02, 3.96422707e-02,\n",
              "        1.17366076e-01, 6.86162245e-03, 7.98083961e-01, 2.38043984e-04,\n",
              "        5.62923742e-05, 2.91156648e-05],\n",
              "       [3.24363180e-04, 3.77225551e-05, 3.76484059e-02, 6.38198793e-01,\n",
              "        1.10716723e-01, 1.06944405e-01, 1.98237970e-02, 8.57159421e-02,\n",
              "        4.90240154e-06, 5.84870228e-04],\n",
              "       [3.89167457e-03, 9.63762879e-01, 2.07683363e-04, 1.30090557e-04,\n",
              "        4.12358822e-05, 2.49513141e-05, 6.56288394e-05, 1.16209476e-05,\n",
              "        4.04420309e-03, 2.78200842e-02]], dtype=float32)"
            ]
          },
          "metadata": {},
          "execution_count": 21
        }
      ]
    },
    {
      "cell_type": "code",
      "source": [
        "y_pred_classes = [np.argmax(element) for element in y_pred]"
      ],
      "metadata": {
        "id": "ICndfRTXQ7IY"
      },
      "execution_count": 26,
      "outputs": []
    },
    {
      "cell_type": "code",
      "source": [
        "y_pred_classes[:10]"
      ],
      "metadata": {
        "colab": {
          "base_uri": "https://localhost:8080/"
        },
        "id": "6l4xfNCGaBl-",
        "outputId": "b80ffc2f-d580-4751-a949-104efac76e7a"
      },
      "execution_count": 27,
      "outputs": [
        {
          "output_type": "execute_result",
          "data": {
            "text/plain": [
              "[3, 8, 0, 0, 6, 6, 5, 6, 3, 1]"
            ]
          },
          "metadata": {},
          "execution_count": 27
        }
      ]
    },
    {
      "cell_type": "code",
      "source": [
        "y_test[:10]"
      ],
      "metadata": {
        "colab": {
          "base_uri": "https://localhost:8080/"
        },
        "id": "6ab6rPfpewnE",
        "outputId": "b50724b3-a093-476d-d61c-5113d7074bc7"
      },
      "execution_count": 38,
      "outputs": [
        {
          "output_type": "execute_result",
          "data": {
            "text/plain": [
              "array([3, 8, 8, 0, 6, 6, 1, 6, 3, 1], dtype=uint8)"
            ]
          },
          "metadata": {},
          "execution_count": 38
        }
      ]
    },
    {
      "cell_type": "code",
      "source": [
        "print('classification Report:\\n', classification_report(y_test,y_pred_classes))"
      ],
      "metadata": {
        "colab": {
          "base_uri": "https://localhost:8080/"
        },
        "id": "mGxvC6bVaEBg",
        "outputId": "01ec0dad-f338-4609-cb87-523348b6a00f"
      },
      "execution_count": 28,
      "outputs": [
        {
          "output_type": "stream",
          "name": "stdout",
          "text": [
            "classification Report:\n",
            "               precision    recall  f1-score   support\n",
            "\n",
            "           0       0.72      0.67      0.69      1000\n",
            "           1       0.76      0.80      0.78      1000\n",
            "           2       0.49      0.57      0.53      1000\n",
            "           3       0.49      0.39      0.43      1000\n",
            "           4       0.56      0.51      0.53      1000\n",
            "           5       0.55      0.52      0.53      1000\n",
            "           6       0.56      0.84      0.68      1000\n",
            "           7       0.83      0.58      0.68      1000\n",
            "           8       0.74      0.76      0.75      1000\n",
            "           9       0.72      0.70      0.71      1000\n",
            "\n",
            "    accuracy                           0.63     10000\n",
            "   macro avg       0.64      0.63      0.63     10000\n",
            "weighted avg       0.64      0.63      0.63     10000\n",
            "\n"
          ]
        }
      ]
    },
    {
      "cell_type": "code",
      "source": [
        "plot_sample(x_test,y_test,6)"
      ],
      "metadata": {
        "colab": {
          "base_uri": "https://localhost:8080/",
          "height": 449
        },
        "id": "Ky_TNUWAa27N",
        "outputId": "6895937c-ce26-452e-ffcc-ad2674d50b8c"
      },
      "execution_count": 40,
      "outputs": [
        {
          "output_type": "display_data",
          "data": {
            "text/plain": [
              "<Figure size 640x480 with 1 Axes>"
            ],
            "image/png": "[encoded data removed]"
          },
          "metadata": {}
        }
      ]
    },
    {
      "cell_type": "code",
      "source": [
        "classes[y_pred_classes[6]]"
      ],
      "metadata": {
        "colab": {
          "base_uri": "https://localhost:8080/",
          "height": 35
        },
        "id": "D2xGFBeLd4cK",
        "outputId": "085bd8a4-341a-4471-f034-b627d9010271"
      },
      "execution_count": 39,
      "outputs": [
        {
          "output_type": "execute_result",
          "data": {
            "text/plain": [
              "'dog'"
            ],
            "application/vnd.google.colaboratory.intrinsic+json": {
              "type": "string"
            }
          },
          "metadata": {},
          "execution_count": 39
        }
      ]
    },
    {
      "cell_type": "code",
      "source": [],
      "metadata": {
        "id": "67ocIge6eJUM"
      },
      "execution_count": null,
      "outputs": []
    }
  ]
}